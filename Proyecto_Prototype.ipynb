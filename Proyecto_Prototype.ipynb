{
  "nbformat": 4,
  "nbformat_minor": 0,
  "metadata": {
    "colab": {
      "name": "Copia de Untitled3.ipynb",
      "provenance": [],
      "collapsed_sections": [],
      "authorship_tag": "ABX9TyOAa7UL/gkwSJ/F106rhPYZ",
      "include_colab_link": true
    },
    "kernelspec": {
      "name": "python3",
      "display_name": "Python 3"
    },
    "language_info": {
      "name": "python"
    }
  },
  "cells": [
    {
      "cell_type": "markdown",
      "metadata": {
        "id": "view-in-github",
        "colab_type": "text"
      },
      "source": [
        "<a href=\"https://colab.research.google.com/github/ErnestoReyes27/Data_Analytics_Aplicado_a_Tienda_de_Bicis/blob/main/Proyecto_Prototype.ipynb\" target=\"_parent\"><img src=\"https://colab.research.google.com/assets/colab-badge.svg\" alt=\"Open In Colab\"/></a>"
      ]
    },
    {
      "cell_type": "code",
      "metadata": {
        "id": "YY4bdzlR6aIv"
      },
      "source": [
        "import pandas as pd\n",
        "\n",
        "#Tablas de la base de datos de la tienda de Bicis Australiana"
      ],
      "execution_count": 15,
      "outputs": []
    },
    {
      "cell_type": "code",
      "metadata": {
        "colab": {
          "base_uri": "https://localhost:8080/",
          "height": 648
        },
        "id": "OxeCCq9y65FT",
        "outputId": "cfef02f2-46a7-4826-92b2-5dad6bc12fe0"
      },
      "source": [
        "customer_demographics = pd.read_csv(\"https://raw.githubusercontent.com/ErnestoReyes27/Data_Analytics_Aplicado_a_Tienda_de_Bicis/main/customer_demographics.csv\",index_col=0)\n",
        "\n",
        "customer_demographics.head()\n",
        "\n",
        "customer_demographics\n"
      ],
      "execution_count": 34,
      "outputs": [
        {
          "output_type": "execute_result",
          "data": {
            "text/html": [
              "<div>\n",
              "<style scoped>\n",
              "    .dataframe tbody tr th:only-of-type {\n",
              "        vertical-align: middle;\n",
              "    }\n",
              "\n",
              "    .dataframe tbody tr th {\n",
              "        vertical-align: top;\n",
              "    }\n",
              "\n",
              "    .dataframe thead th {\n",
              "        text-align: right;\n",
              "    }\n",
              "</style>\n",
              "<table border=\"1\" class=\"dataframe\">\n",
              "  <thead>\n",
              "    <tr style=\"text-align: right;\">\n",
              "      <th></th>\n",
              "      <th>first_name</th>\n",
              "      <th>last_name</th>\n",
              "      <th>gender</th>\n",
              "      <th>past_3_years_bike_related_purchases</th>\n",
              "      <th>DOB</th>\n",
              "      <th>job_title</th>\n",
              "      <th>job_industry_category</th>\n",
              "      <th>wealth_segment</th>\n",
              "      <th>deceased_indicator</th>\n",
              "      <th>owns_car</th>\n",
              "      <th>tenure</th>\n",
              "    </tr>\n",
              "    <tr>\n",
              "      <th>customer_id</th>\n",
              "      <th></th>\n",
              "      <th></th>\n",
              "      <th></th>\n",
              "      <th></th>\n",
              "      <th></th>\n",
              "      <th></th>\n",
              "      <th></th>\n",
              "      <th></th>\n",
              "      <th></th>\n",
              "      <th></th>\n",
              "      <th></th>\n",
              "    </tr>\n",
              "  </thead>\n",
              "  <tbody>\n",
              "    <tr>\n",
              "      <th>1</th>\n",
              "      <td>Laraine</td>\n",
              "      <td>Medendorp</td>\n",
              "      <td>F</td>\n",
              "      <td>93</td>\n",
              "      <td>1953-10-12</td>\n",
              "      <td>Executive Secretary</td>\n",
              "      <td>Health</td>\n",
              "      <td>Mass Customer</td>\n",
              "      <td>N</td>\n",
              "      <td>Yes</td>\n",
              "      <td>11.0</td>\n",
              "    </tr>\n",
              "    <tr>\n",
              "      <th>2</th>\n",
              "      <td>Eli</td>\n",
              "      <td>Bockman</td>\n",
              "      <td>M</td>\n",
              "      <td>81</td>\n",
              "      <td>1980-12-16</td>\n",
              "      <td>Administrative Officer</td>\n",
              "      <td>Financial Services</td>\n",
              "      <td>Mass Customer</td>\n",
              "      <td>N</td>\n",
              "      <td>Yes</td>\n",
              "      <td>16.0</td>\n",
              "    </tr>\n",
              "    <tr>\n",
              "      <th>3</th>\n",
              "      <td>Arlin</td>\n",
              "      <td>Dearle</td>\n",
              "      <td>M</td>\n",
              "      <td>61</td>\n",
              "      <td>1954-01-20</td>\n",
              "      <td>Recruiting Manager</td>\n",
              "      <td>Property</td>\n",
              "      <td>Mass Customer</td>\n",
              "      <td>N</td>\n",
              "      <td>Yes</td>\n",
              "      <td>15.0</td>\n",
              "    </tr>\n",
              "    <tr>\n",
              "      <th>4</th>\n",
              "      <td>Talbot</td>\n",
              "      <td>NaN</td>\n",
              "      <td>M</td>\n",
              "      <td>33</td>\n",
              "      <td>1961-10-03</td>\n",
              "      <td>NaN</td>\n",
              "      <td>IT</td>\n",
              "      <td>Mass Customer</td>\n",
              "      <td>N</td>\n",
              "      <td>No</td>\n",
              "      <td>7.0</td>\n",
              "    </tr>\n",
              "    <tr>\n",
              "      <th>5</th>\n",
              "      <td>Sheila-kathryn</td>\n",
              "      <td>Calton</td>\n",
              "      <td>F</td>\n",
              "      <td>56</td>\n",
              "      <td>1977-05-13</td>\n",
              "      <td>Senior Editor</td>\n",
              "      <td>NaN</td>\n",
              "      <td>Affluent Customer</td>\n",
              "      <td>N</td>\n",
              "      <td>Yes</td>\n",
              "      <td>8.0</td>\n",
              "    </tr>\n",
              "    <tr>\n",
              "      <th>...</th>\n",
              "      <td>...</td>\n",
              "      <td>...</td>\n",
              "      <td>...</td>\n",
              "      <td>...</td>\n",
              "      <td>...</td>\n",
              "      <td>...</td>\n",
              "      <td>...</td>\n",
              "      <td>...</td>\n",
              "      <td>...</td>\n",
              "      <td>...</td>\n",
              "      <td>...</td>\n",
              "    </tr>\n",
              "    <tr>\n",
              "      <th>3996</th>\n",
              "      <td>Rosalia</td>\n",
              "      <td>Halgarth</td>\n",
              "      <td>F</td>\n",
              "      <td>8</td>\n",
              "      <td>1975-08-09</td>\n",
              "      <td>VP Product Management</td>\n",
              "      <td>Health</td>\n",
              "      <td>Mass Customer</td>\n",
              "      <td>N</td>\n",
              "      <td>No</td>\n",
              "      <td>19.0</td>\n",
              "    </tr>\n",
              "    <tr>\n",
              "      <th>3997</th>\n",
              "      <td>Blanch</td>\n",
              "      <td>Nisuis</td>\n",
              "      <td>F</td>\n",
              "      <td>87</td>\n",
              "      <td>2001-07-13</td>\n",
              "      <td>Statistician II</td>\n",
              "      <td>Manufacturing</td>\n",
              "      <td>High Net Worth</td>\n",
              "      <td>N</td>\n",
              "      <td>Yes</td>\n",
              "      <td>1.0</td>\n",
              "    </tr>\n",
              "    <tr>\n",
              "      <th>3998</th>\n",
              "      <td>Sarene</td>\n",
              "      <td>Woolley</td>\n",
              "      <td>U</td>\n",
              "      <td>60</td>\n",
              "      <td>NaN</td>\n",
              "      <td>Assistant Manager</td>\n",
              "      <td>IT</td>\n",
              "      <td>High Net Worth</td>\n",
              "      <td>N</td>\n",
              "      <td>No</td>\n",
              "      <td>NaN</td>\n",
              "    </tr>\n",
              "    <tr>\n",
              "      <th>3999</th>\n",
              "      <td>Patrizius</td>\n",
              "      <td>NaN</td>\n",
              "      <td>M</td>\n",
              "      <td>11</td>\n",
              "      <td>1973-10-24</td>\n",
              "      <td>NaN</td>\n",
              "      <td>Manufacturing</td>\n",
              "      <td>Affluent Customer</td>\n",
              "      <td>N</td>\n",
              "      <td>Yes</td>\n",
              "      <td>10.0</td>\n",
              "    </tr>\n",
              "    <tr>\n",
              "      <th>4000</th>\n",
              "      <td>Kippy</td>\n",
              "      <td>Oldland</td>\n",
              "      <td>M</td>\n",
              "      <td>76</td>\n",
              "      <td>1991-11-05</td>\n",
              "      <td>Software Engineer IV</td>\n",
              "      <td>NaN</td>\n",
              "      <td>Affluent Customer</td>\n",
              "      <td>N</td>\n",
              "      <td>No</td>\n",
              "      <td>11.0</td>\n",
              "    </tr>\n",
              "  </tbody>\n",
              "</table>\n",
              "<p>4000 rows × 11 columns</p>\n",
              "</div>"
            ],
            "text/plain": [
              "                 first_name  last_name  ... owns_car  tenure\n",
              "customer_id                             ...                 \n",
              "1                   Laraine  Medendorp  ...      Yes    11.0\n",
              "2                       Eli    Bockman  ...      Yes    16.0\n",
              "3                     Arlin     Dearle  ...      Yes    15.0\n",
              "4                    Talbot        NaN  ...       No     7.0\n",
              "5            Sheila-kathryn     Calton  ...      Yes     8.0\n",
              "...                     ...        ...  ...      ...     ...\n",
              "3996                Rosalia   Halgarth  ...       No    19.0\n",
              "3997                 Blanch     Nisuis  ...      Yes     1.0\n",
              "3998                 Sarene    Woolley  ...       No     NaN\n",
              "3999              Patrizius        NaN  ...      Yes    10.0\n",
              "4000                  Kippy    Oldland  ...       No    11.0\n",
              "\n",
              "[4000 rows x 11 columns]"
            ]
          },
          "metadata": {
            "tags": []
          },
          "execution_count": 34
        }
      ]
    },
    {
      "cell_type": "code",
      "metadata": {
        "colab": {
          "base_uri": "https://localhost:8080/",
          "height": 613
        },
        "id": "BWkxxKIQ8Lmd",
        "outputId": "b8cf4d43-8457-4bb5-82af-bbfc94e92ae2"
      },
      "source": [
        "transactions = pd.read_csv(\"https://raw.githubusercontent.com/ErnestoReyes27/Data_Analytics_Aplicado_a_Tienda_de_Bicis/main/transactions.csv\",index_col=0)\n",
        "\n",
        "transactions.head()\n",
        "\n",
        "transactions\n"
      ],
      "execution_count": 4,
      "outputs": [
        {
          "output_type": "execute_result",
          "data": {
            "text/html": [
              "<div>\n",
              "<style scoped>\n",
              "    .dataframe tbody tr th:only-of-type {\n",
              "        vertical-align: middle;\n",
              "    }\n",
              "\n",
              "    .dataframe tbody tr th {\n",
              "        vertical-align: top;\n",
              "    }\n",
              "\n",
              "    .dataframe thead th {\n",
              "        text-align: right;\n",
              "    }\n",
              "</style>\n",
              "<table border=\"1\" class=\"dataframe\">\n",
              "  <thead>\n",
              "    <tr style=\"text-align: right;\">\n",
              "      <th></th>\n",
              "      <th>product_id</th>\n",
              "      <th>customer_id</th>\n",
              "      <th>transaction_date</th>\n",
              "      <th>online_order</th>\n",
              "      <th>order_status</th>\n",
              "      <th>brand</th>\n",
              "      <th>product_line</th>\n",
              "      <th>product_class</th>\n",
              "      <th>product_size</th>\n",
              "      <th>list_price</th>\n",
              "      <th>standard_cost</th>\n",
              "      <th>product_first_sold_date</th>\n",
              "    </tr>\n",
              "    <tr>\n",
              "      <th>transaction_id</th>\n",
              "      <th></th>\n",
              "      <th></th>\n",
              "      <th></th>\n",
              "      <th></th>\n",
              "      <th></th>\n",
              "      <th></th>\n",
              "      <th></th>\n",
              "      <th></th>\n",
              "      <th></th>\n",
              "      <th></th>\n",
              "      <th></th>\n",
              "      <th></th>\n",
              "    </tr>\n",
              "  </thead>\n",
              "  <tbody>\n",
              "    <tr>\n",
              "      <th>1</th>\n",
              "      <td>2</td>\n",
              "      <td>2950</td>\n",
              "      <td>2017-02-25</td>\n",
              "      <td>False</td>\n",
              "      <td>Approved</td>\n",
              "      <td>Solex</td>\n",
              "      <td>Standard</td>\n",
              "      <td>medium</td>\n",
              "      <td>medium</td>\n",
              "      <td>71.49</td>\n",
              "      <td>53.62</td>\n",
              "      <td>2012-12-02</td>\n",
              "    </tr>\n",
              "    <tr>\n",
              "      <th>2</th>\n",
              "      <td>3</td>\n",
              "      <td>3120</td>\n",
              "      <td>2017-05-21</td>\n",
              "      <td>True</td>\n",
              "      <td>Approved</td>\n",
              "      <td>Trek Bicycles</td>\n",
              "      <td>Standard</td>\n",
              "      <td>medium</td>\n",
              "      <td>large</td>\n",
              "      <td>2091.47</td>\n",
              "      <td>388.92</td>\n",
              "      <td>2014-03-03</td>\n",
              "    </tr>\n",
              "    <tr>\n",
              "      <th>3</th>\n",
              "      <td>37</td>\n",
              "      <td>402</td>\n",
              "      <td>2017-10-16</td>\n",
              "      <td>False</td>\n",
              "      <td>Approved</td>\n",
              "      <td>OHM Cycles</td>\n",
              "      <td>Standard</td>\n",
              "      <td>low</td>\n",
              "      <td>medium</td>\n",
              "      <td>1793.43</td>\n",
              "      <td>248.82</td>\n",
              "      <td>1999-07-20</td>\n",
              "    </tr>\n",
              "    <tr>\n",
              "      <th>4</th>\n",
              "      <td>88</td>\n",
              "      <td>3135</td>\n",
              "      <td>2017-08-31</td>\n",
              "      <td>False</td>\n",
              "      <td>Approved</td>\n",
              "      <td>Norco Bicycles</td>\n",
              "      <td>Standard</td>\n",
              "      <td>medium</td>\n",
              "      <td>medium</td>\n",
              "      <td>1198.46</td>\n",
              "      <td>381.10</td>\n",
              "      <td>1998-12-16</td>\n",
              "    </tr>\n",
              "    <tr>\n",
              "      <th>5</th>\n",
              "      <td>78</td>\n",
              "      <td>787</td>\n",
              "      <td>2017-10-01</td>\n",
              "      <td>True</td>\n",
              "      <td>Approved</td>\n",
              "      <td>Giant Bicycles</td>\n",
              "      <td>Standard</td>\n",
              "      <td>medium</td>\n",
              "      <td>large</td>\n",
              "      <td>1765.30</td>\n",
              "      <td>709.48</td>\n",
              "      <td>2015-08-10</td>\n",
              "    </tr>\n",
              "    <tr>\n",
              "      <th>...</th>\n",
              "      <td>...</td>\n",
              "      <td>...</td>\n",
              "      <td>...</td>\n",
              "      <td>...</td>\n",
              "      <td>...</td>\n",
              "      <td>...</td>\n",
              "      <td>...</td>\n",
              "      <td>...</td>\n",
              "      <td>...</td>\n",
              "      <td>...</td>\n",
              "      <td>...</td>\n",
              "      <td>...</td>\n",
              "    </tr>\n",
              "    <tr>\n",
              "      <th>19996</th>\n",
              "      <td>51</td>\n",
              "      <td>1018</td>\n",
              "      <td>2017-06-24</td>\n",
              "      <td>True</td>\n",
              "      <td>Approved</td>\n",
              "      <td>OHM Cycles</td>\n",
              "      <td>Standard</td>\n",
              "      <td>high</td>\n",
              "      <td>medium</td>\n",
              "      <td>2005.66</td>\n",
              "      <td>1203.40</td>\n",
              "      <td>2003-07-21</td>\n",
              "    </tr>\n",
              "    <tr>\n",
              "      <th>19997</th>\n",
              "      <td>41</td>\n",
              "      <td>127</td>\n",
              "      <td>2017-11-09</td>\n",
              "      <td>True</td>\n",
              "      <td>Approved</td>\n",
              "      <td>Solex</td>\n",
              "      <td>Road</td>\n",
              "      <td>medium</td>\n",
              "      <td>medium</td>\n",
              "      <td>416.98</td>\n",
              "      <td>312.74</td>\n",
              "      <td>1997-05-10</td>\n",
              "    </tr>\n",
              "    <tr>\n",
              "      <th>19998</th>\n",
              "      <td>87</td>\n",
              "      <td>2284</td>\n",
              "      <td>2017-04-14</td>\n",
              "      <td>True</td>\n",
              "      <td>Approved</td>\n",
              "      <td>OHM Cycles</td>\n",
              "      <td>Standard</td>\n",
              "      <td>medium</td>\n",
              "      <td>medium</td>\n",
              "      <td>1636.90</td>\n",
              "      <td>44.71</td>\n",
              "      <td>2010-08-20</td>\n",
              "    </tr>\n",
              "    <tr>\n",
              "      <th>19999</th>\n",
              "      <td>6</td>\n",
              "      <td>2764</td>\n",
              "      <td>2017-07-03</td>\n",
              "      <td>False</td>\n",
              "      <td>Approved</td>\n",
              "      <td>OHM Cycles</td>\n",
              "      <td>Standard</td>\n",
              "      <td>high</td>\n",
              "      <td>medium</td>\n",
              "      <td>227.88</td>\n",
              "      <td>136.73</td>\n",
              "      <td>2004-08-17</td>\n",
              "    </tr>\n",
              "    <tr>\n",
              "      <th>20000</th>\n",
              "      <td>11</td>\n",
              "      <td>1144</td>\n",
              "      <td>2017-09-22</td>\n",
              "      <td>True</td>\n",
              "      <td>Approved</td>\n",
              "      <td>Trek Bicycles</td>\n",
              "      <td>Standard</td>\n",
              "      <td>medium</td>\n",
              "      <td>small</td>\n",
              "      <td>1775.81</td>\n",
              "      <td>1580.47</td>\n",
              "      <td>1999-06-23</td>\n",
              "    </tr>\n",
              "  </tbody>\n",
              "</table>\n",
              "<p>20000 rows × 12 columns</p>\n",
              "</div>"
            ],
            "text/plain": [
              "                product_id  customer_id  ... standard_cost product_first_sold_date\n",
              "transaction_id                           ...                                      \n",
              "1                        2         2950  ...         53.62              2012-12-02\n",
              "2                        3         3120  ...        388.92              2014-03-03\n",
              "3                       37          402  ...        248.82              1999-07-20\n",
              "4                       88         3135  ...        381.10              1998-12-16\n",
              "5                       78          787  ...        709.48              2015-08-10\n",
              "...                    ...          ...  ...           ...                     ...\n",
              "19996                   51         1018  ...       1203.40              2003-07-21\n",
              "19997                   41          127  ...        312.74              1997-05-10\n",
              "19998                   87         2284  ...         44.71              2010-08-20\n",
              "19999                    6         2764  ...        136.73              2004-08-17\n",
              "20000                   11         1144  ...       1580.47              1999-06-23\n",
              "\n",
              "[20000 rows x 12 columns]"
            ]
          },
          "metadata": {
            "tags": []
          },
          "execution_count": 4
        }
      ]
    },
    {
      "cell_type": "code",
      "metadata": {
        "colab": {
          "base_uri": "https://localhost:8080/",
          "height": 455
        },
        "id": "_t-UQqpL8-C1",
        "outputId": "f77e6059-2d02-4c1f-e19b-8f2a575643a2"
      },
      "source": [
        "customer_address = pd.read_csv(\"https://raw.githubusercontent.com/ErnestoReyes27/Data_Analytics_Aplicado_a_Tienda_de_Bicis/main/customer_address.csv\",index_col=0)\n",
        "\n",
        "customer_address.head()\n",
        "\n",
        "customer_address\n"
      ],
      "execution_count": 61,
      "outputs": [
        {
          "output_type": "execute_result",
          "data": {
            "text/html": [
              "<div>\n",
              "<style scoped>\n",
              "    .dataframe tbody tr th:only-of-type {\n",
              "        vertical-align: middle;\n",
              "    }\n",
              "\n",
              "    .dataframe tbody tr th {\n",
              "        vertical-align: top;\n",
              "    }\n",
              "\n",
              "    .dataframe thead th {\n",
              "        text-align: right;\n",
              "    }\n",
              "</style>\n",
              "<table border=\"1\" class=\"dataframe\">\n",
              "  <thead>\n",
              "    <tr style=\"text-align: right;\">\n",
              "      <th></th>\n",
              "      <th>address</th>\n",
              "      <th>postcode</th>\n",
              "      <th>state</th>\n",
              "      <th>country</th>\n",
              "      <th>property_valuation</th>\n",
              "    </tr>\n",
              "    <tr>\n",
              "      <th>customer_id</th>\n",
              "      <th></th>\n",
              "      <th></th>\n",
              "      <th></th>\n",
              "      <th></th>\n",
              "      <th></th>\n",
              "    </tr>\n",
              "  </thead>\n",
              "  <tbody>\n",
              "    <tr>\n",
              "      <th>1</th>\n",
              "      <td>060 Morning Avenue</td>\n",
              "      <td>2016</td>\n",
              "      <td>NSW</td>\n",
              "      <td>Australia</td>\n",
              "      <td>10</td>\n",
              "    </tr>\n",
              "    <tr>\n",
              "      <th>2</th>\n",
              "      <td>6 Meadow Vale Court</td>\n",
              "      <td>2153</td>\n",
              "      <td>NSW</td>\n",
              "      <td>Australia</td>\n",
              "      <td>10</td>\n",
              "    </tr>\n",
              "    <tr>\n",
              "      <th>4</th>\n",
              "      <td>0 Holy Cross Court</td>\n",
              "      <td>4211</td>\n",
              "      <td>QLD</td>\n",
              "      <td>Australia</td>\n",
              "      <td>9</td>\n",
              "    </tr>\n",
              "    <tr>\n",
              "      <th>5</th>\n",
              "      <td>17979 Del Mar Point</td>\n",
              "      <td>2448</td>\n",
              "      <td>NSW</td>\n",
              "      <td>Australia</td>\n",
              "      <td>4</td>\n",
              "    </tr>\n",
              "    <tr>\n",
              "      <th>6</th>\n",
              "      <td>9 Oakridge Court</td>\n",
              "      <td>3216</td>\n",
              "      <td>VIC</td>\n",
              "      <td>Australia</td>\n",
              "      <td>9</td>\n",
              "    </tr>\n",
              "    <tr>\n",
              "      <th>...</th>\n",
              "      <td>...</td>\n",
              "      <td>...</td>\n",
              "      <td>...</td>\n",
              "      <td>...</td>\n",
              "      <td>...</td>\n",
              "    </tr>\n",
              "    <tr>\n",
              "      <th>3999</th>\n",
              "      <td>1482 Hauk Trail</td>\n",
              "      <td>3064</td>\n",
              "      <td>VIC</td>\n",
              "      <td>Australia</td>\n",
              "      <td>3</td>\n",
              "    </tr>\n",
              "    <tr>\n",
              "      <th>4000</th>\n",
              "      <td>57042 Village Green Point</td>\n",
              "      <td>4511</td>\n",
              "      <td>QLD</td>\n",
              "      <td>Australia</td>\n",
              "      <td>6</td>\n",
              "    </tr>\n",
              "    <tr>\n",
              "      <th>4001</th>\n",
              "      <td>87 Crescent Oaks Alley</td>\n",
              "      <td>2756</td>\n",
              "      <td>NSW</td>\n",
              "      <td>Australia</td>\n",
              "      <td>10</td>\n",
              "    </tr>\n",
              "    <tr>\n",
              "      <th>4002</th>\n",
              "      <td>8194 Lien Street</td>\n",
              "      <td>4032</td>\n",
              "      <td>QLD</td>\n",
              "      <td>Australia</td>\n",
              "      <td>7</td>\n",
              "    </tr>\n",
              "    <tr>\n",
              "      <th>4003</th>\n",
              "      <td>320 Acker Drive</td>\n",
              "      <td>2251</td>\n",
              "      <td>NSW</td>\n",
              "      <td>Australia</td>\n",
              "      <td>7</td>\n",
              "    </tr>\n",
              "  </tbody>\n",
              "</table>\n",
              "<p>3999 rows × 5 columns</p>\n",
              "</div>"
            ],
            "text/plain": [
              "                               address  postcode  ...    country property_valuation\n",
              "customer_id                                       ...                              \n",
              "1                   060 Morning Avenue      2016  ...  Australia                 10\n",
              "2                  6 Meadow Vale Court      2153  ...  Australia                 10\n",
              "4                   0 Holy Cross Court      4211  ...  Australia                  9\n",
              "5                  17979 Del Mar Point      2448  ...  Australia                  4\n",
              "6                     9 Oakridge Court      3216  ...  Australia                  9\n",
              "...                                ...       ...  ...        ...                ...\n",
              "3999                   1482 Hauk Trail      3064  ...  Australia                  3\n",
              "4000         57042 Village Green Point      4511  ...  Australia                  6\n",
              "4001            87 Crescent Oaks Alley      2756  ...  Australia                 10\n",
              "4002                  8194 Lien Street      4032  ...  Australia                  7\n",
              "4003                   320 Acker Drive      2251  ...  Australia                  7\n",
              "\n",
              "[3999 rows x 5 columns]"
            ]
          },
          "metadata": {
            "tags": []
          },
          "execution_count": 61
        }
      ]
    },
    {
      "cell_type": "code",
      "metadata": {
        "colab": {
          "base_uri": "https://localhost:8080/"
        },
        "id": "-dhzrDy--oHe",
        "outputId": "c6025839-4088-43fe-a9e7-e5b68f7586b8"
      },
      "source": [
        "#Precio de venta promedio por bici\n",
        "\n",
        "transactions[\"list_price\"].mean()"
      ],
      "execution_count": 14,
      "outputs": [
        {
          "output_type": "execute_result",
          "data": {
            "text/plain": [
              "1107.8294490000271"
            ]
          },
          "metadata": {
            "tags": []
          },
          "execution_count": 14
        }
      ]
    },
    {
      "cell_type": "code",
      "metadata": {
        "id": "mzRDKHn9BPZQ"
      },
      "source": [
        "#Media Truncada\n",
        "\n",
        "#Estimado de locación más robusto que el promedio y la mediana, es menos sensible a valores atípicos.\n",
        "\n",
        "from scipy import stats\n",
        "import pandas as pd"
      ],
      "execution_count": 16,
      "outputs": []
    },
    {
      "cell_type": "code",
      "metadata": {
        "colab": {
          "base_uri": "https://localhost:8080/"
        },
        "id": "Nek-ZXP5BZ_A",
        "outputId": "529a2eae-3df2-4697-d549-3e19f0424110"
      },
      "source": [
        "transactions.head()\n",
        "\n",
        "stats.trim_mean(transactions['list_price'], 0.1)"
      ],
      "execution_count": 18,
      "outputs": [
        {
          "output_type": "execute_result",
          "data": {
            "text/plain": [
              "1118.899126875"
            ]
          },
          "metadata": {
            "tags": []
          },
          "execution_count": 18
        }
      ]
    },
    {
      "cell_type": "code",
      "metadata": {
        "colab": {
          "base_uri": "https://localhost:8080/"
        },
        "id": "4aBUfzRwB5_B",
        "outputId": "95329ec5-1d7d-41fd-e369-5be534773d66"
      },
      "source": [
        "transactions[\"list_price\"].mean()"
      ],
      "execution_count": 19,
      "outputs": [
        {
          "output_type": "execute_result",
          "data": {
            "text/plain": [
              "1107.8294490000271"
            ]
          },
          "metadata": {
            "tags": []
          },
          "execution_count": 19
        }
      ]
    },
    {
      "cell_type": "code",
      "metadata": {
        "colab": {
          "base_uri": "https://localhost:8080/"
        },
        "id": "d98EqlMGB8i-",
        "outputId": "aabc9a35-a6db-4e0d-88c3-b227e44fe66f"
      },
      "source": [
        "transactions[\"list_price\"].median()"
      ],
      "execution_count": 20,
      "outputs": [
        {
          "output_type": "execute_result",
          "data": {
            "text/plain": [
              "1163.89"
            ]
          },
          "metadata": {
            "tags": []
          },
          "execution_count": 20
        }
      ]
    },
    {
      "cell_type": "code",
      "metadata": {
        "colab": {
          "base_uri": "https://localhost:8080/"
        },
        "id": "cskBnIM3D3bW",
        "outputId": "594d2b6a-d016-4561-a76f-62e141ed0902"
      },
      "source": [
        "#Desviacion Estandar\n",
        "\n",
        "transactions[\"list_price\"].std()"
      ],
      "execution_count": 21,
      "outputs": [
        {
          "output_type": "execute_result",
          "data": {
            "text/plain": [
              "582.8252423811248"
            ]
          },
          "metadata": {
            "tags": []
          },
          "execution_count": 21
        }
      ]
    },
    {
      "cell_type": "code",
      "metadata": {
        "id": "dhGhzs9NKr7F"
      },
      "source": [
        "#Boxplot\n",
        "\n",
        "import seaborn as sns\n",
        "import matplotlib.pyplot as plt\n",
        "import pandas as pd"
      ],
      "execution_count": 1,
      "outputs": []
    },
    {
      "cell_type": "code",
      "metadata": {
        "colab": {
          "base_uri": "https://localhost:8080/",
          "height": 327
        },
        "id": "RvKmxPlsK04s",
        "outputId": "0c9758c5-4f89-46ac-9e76-c4b11e822ca0"
      },
      "source": [
        "transactions.head()"
      ],
      "execution_count": 5,
      "outputs": [
        {
          "output_type": "execute_result",
          "data": {
            "text/html": [
              "<div>\n",
              "<style scoped>\n",
              "    .dataframe tbody tr th:only-of-type {\n",
              "        vertical-align: middle;\n",
              "    }\n",
              "\n",
              "    .dataframe tbody tr th {\n",
              "        vertical-align: top;\n",
              "    }\n",
              "\n",
              "    .dataframe thead th {\n",
              "        text-align: right;\n",
              "    }\n",
              "</style>\n",
              "<table border=\"1\" class=\"dataframe\">\n",
              "  <thead>\n",
              "    <tr style=\"text-align: right;\">\n",
              "      <th></th>\n",
              "      <th>product_id</th>\n",
              "      <th>customer_id</th>\n",
              "      <th>transaction_date</th>\n",
              "      <th>online_order</th>\n",
              "      <th>order_status</th>\n",
              "      <th>brand</th>\n",
              "      <th>product_line</th>\n",
              "      <th>product_class</th>\n",
              "      <th>product_size</th>\n",
              "      <th>list_price</th>\n",
              "      <th>standard_cost</th>\n",
              "      <th>product_first_sold_date</th>\n",
              "    </tr>\n",
              "    <tr>\n",
              "      <th>transaction_id</th>\n",
              "      <th></th>\n",
              "      <th></th>\n",
              "      <th></th>\n",
              "      <th></th>\n",
              "      <th></th>\n",
              "      <th></th>\n",
              "      <th></th>\n",
              "      <th></th>\n",
              "      <th></th>\n",
              "      <th></th>\n",
              "      <th></th>\n",
              "      <th></th>\n",
              "    </tr>\n",
              "  </thead>\n",
              "  <tbody>\n",
              "    <tr>\n",
              "      <th>1</th>\n",
              "      <td>2</td>\n",
              "      <td>2950</td>\n",
              "      <td>2017-02-25</td>\n",
              "      <td>False</td>\n",
              "      <td>Approved</td>\n",
              "      <td>Solex</td>\n",
              "      <td>Standard</td>\n",
              "      <td>medium</td>\n",
              "      <td>medium</td>\n",
              "      <td>71.49</td>\n",
              "      <td>53.62</td>\n",
              "      <td>2012-12-02</td>\n",
              "    </tr>\n",
              "    <tr>\n",
              "      <th>2</th>\n",
              "      <td>3</td>\n",
              "      <td>3120</td>\n",
              "      <td>2017-05-21</td>\n",
              "      <td>True</td>\n",
              "      <td>Approved</td>\n",
              "      <td>Trek Bicycles</td>\n",
              "      <td>Standard</td>\n",
              "      <td>medium</td>\n",
              "      <td>large</td>\n",
              "      <td>2091.47</td>\n",
              "      <td>388.92</td>\n",
              "      <td>2014-03-03</td>\n",
              "    </tr>\n",
              "    <tr>\n",
              "      <th>3</th>\n",
              "      <td>37</td>\n",
              "      <td>402</td>\n",
              "      <td>2017-10-16</td>\n",
              "      <td>False</td>\n",
              "      <td>Approved</td>\n",
              "      <td>OHM Cycles</td>\n",
              "      <td>Standard</td>\n",
              "      <td>low</td>\n",
              "      <td>medium</td>\n",
              "      <td>1793.43</td>\n",
              "      <td>248.82</td>\n",
              "      <td>1999-07-20</td>\n",
              "    </tr>\n",
              "    <tr>\n",
              "      <th>4</th>\n",
              "      <td>88</td>\n",
              "      <td>3135</td>\n",
              "      <td>2017-08-31</td>\n",
              "      <td>False</td>\n",
              "      <td>Approved</td>\n",
              "      <td>Norco Bicycles</td>\n",
              "      <td>Standard</td>\n",
              "      <td>medium</td>\n",
              "      <td>medium</td>\n",
              "      <td>1198.46</td>\n",
              "      <td>381.10</td>\n",
              "      <td>1998-12-16</td>\n",
              "    </tr>\n",
              "    <tr>\n",
              "      <th>5</th>\n",
              "      <td>78</td>\n",
              "      <td>787</td>\n",
              "      <td>2017-10-01</td>\n",
              "      <td>True</td>\n",
              "      <td>Approved</td>\n",
              "      <td>Giant Bicycles</td>\n",
              "      <td>Standard</td>\n",
              "      <td>medium</td>\n",
              "      <td>large</td>\n",
              "      <td>1765.30</td>\n",
              "      <td>709.48</td>\n",
              "      <td>2015-08-10</td>\n",
              "    </tr>\n",
              "  </tbody>\n",
              "</table>\n",
              "</div>"
            ],
            "text/plain": [
              "                product_id  customer_id  ... standard_cost product_first_sold_date\n",
              "transaction_id                           ...                                      \n",
              "1                        2         2950  ...         53.62              2012-12-02\n",
              "2                        3         3120  ...        388.92              2014-03-03\n",
              "3                       37          402  ...        248.82              1999-07-20\n",
              "4                       88         3135  ...        381.10              1998-12-16\n",
              "5                       78          787  ...        709.48              2015-08-10\n",
              "\n",
              "[5 rows x 12 columns]"
            ]
          },
          "metadata": {
            "tags": []
          },
          "execution_count": 5
        }
      ]
    },
    {
      "cell_type": "code",
      "metadata": {
        "colab": {
          "base_uri": "https://localhost:8080/",
          "height": 303
        },
        "id": "QtknhOPHLUGH",
        "outputId": "d7f8988b-cedf-4336-cbea-6460d7d20552"
      },
      "source": [
        "#Boxplot Price \n",
        "sns.set(style=\"whitegrid\")\n",
        "sns.boxplot(x=transactions['list_price'])\n",
        "plt.axvline(transactions['list_price'].mean(), c='y')"
      ],
      "execution_count": 11,
      "outputs": [
        {
          "output_type": "execute_result",
          "data": {
            "text/plain": [
              "<matplotlib.lines.Line2D at 0x7fc4f53b9350>"
            ]
          },
          "metadata": {
            "tags": []
          },
          "execution_count": 11
        },
        {
          "output_type": "display_data",
          "data": {
            "image/png": "[encoded data removed]",
            "text/plain": [
              "<Figure size 432x288 with 1 Axes>"
            ]
          },
          "metadata": {
            "tags": []
          }
        }
      ]
    },
    {
      "cell_type": "code",
      "metadata": {
        "colab": {
          "base_uri": "https://localhost:8080/",
          "height": 303
        },
        "id": "qNsaBkt3LbvV",
        "outputId": "ef76e892-3279-487d-fb5b-023585313397"
      },
      "source": [
        "#Boxplot cost\n",
        "sns.set(style=\"whitegrid\")\n",
        "sns.boxplot(x=transactions['standard_cost'])\n",
        "plt.axvline(transactions['standard_cost'].mean(), c='y')"
      ],
      "execution_count": 10,
      "outputs": [
        {
          "output_type": "execute_result",
          "data": {
            "text/plain": [
              "<matplotlib.lines.Line2D at 0x7fc4fd4c5cd0>"
            ]
          },
          "metadata": {
            "tags": []
          },
          "execution_count": 10
        },
        {
          "output_type": "display_data",
          "data": {
            "image/png": "[encoded data removed]",
            "text/plain": [
              "<Figure size 432x288 with 1 Axes>"
            ]
          },
          "metadata": {
            "tags": []
          }
        }
      ]
    },
    {
      "cell_type": "code",
      "metadata": {
        "id": "YxIZDRFYMsLl"
      },
      "source": [
        "#Histogramas\n",
        "\n",
        "import pandas as pd\n",
        "import seaborn as sns"
      ],
      "execution_count": 12,
      "outputs": []
    },
    {
      "cell_type": "code",
      "metadata": {
        "colab": {
          "base_uri": "https://localhost:8080/",
          "height": 327
        },
        "id": "0XCHCqMjMydS",
        "outputId": "2eda632a-2ae0-48b0-a148-d4d7c7a910fd"
      },
      "source": [
        "transactions.head()"
      ],
      "execution_count": 13,
      "outputs": [
        {
          "output_type": "execute_result",
          "data": {
            "text/html": [
              "<div>\n",
              "<style scoped>\n",
              "    .dataframe tbody tr th:only-of-type {\n",
              "        vertical-align: middle;\n",
              "    }\n",
              "\n",
              "    .dataframe tbody tr th {\n",
              "        vertical-align: top;\n",
              "    }\n",
              "\n",
              "    .dataframe thead th {\n",
              "        text-align: right;\n",
              "    }\n",
              "</style>\n",
              "<table border=\"1\" class=\"dataframe\">\n",
              "  <thead>\n",
              "    <tr style=\"text-align: right;\">\n",
              "      <th></th>\n",
              "      <th>product_id</th>\n",
              "      <th>customer_id</th>\n",
              "      <th>transaction_date</th>\n",
              "      <th>online_order</th>\n",
              "      <th>order_status</th>\n",
              "      <th>brand</th>\n",
              "      <th>product_line</th>\n",
              "      <th>product_class</th>\n",
              "      <th>product_size</th>\n",
              "      <th>list_price</th>\n",
              "      <th>standard_cost</th>\n",
              "      <th>product_first_sold_date</th>\n",
              "    </tr>\n",
              "    <tr>\n",
              "      <th>transaction_id</th>\n",
              "      <th></th>\n",
              "      <th></th>\n",
              "      <th></th>\n",
              "      <th></th>\n",
              "      <th></th>\n",
              "      <th></th>\n",
              "      <th></th>\n",
              "      <th></th>\n",
              "      <th></th>\n",
              "      <th></th>\n",
              "      <th></th>\n",
              "      <th></th>\n",
              "    </tr>\n",
              "  </thead>\n",
              "  <tbody>\n",
              "    <tr>\n",
              "      <th>1</th>\n",
              "      <td>2</td>\n",
              "      <td>2950</td>\n",
              "      <td>2017-02-25</td>\n",
              "      <td>False</td>\n",
              "      <td>Approved</td>\n",
              "      <td>Solex</td>\n",
              "      <td>Standard</td>\n",
              "      <td>medium</td>\n",
              "      <td>medium</td>\n",
              "      <td>71.49</td>\n",
              "      <td>53.62</td>\n",
              "      <td>2012-12-02</td>\n",
              "    </tr>\n",
              "    <tr>\n",
              "      <th>2</th>\n",
              "      <td>3</td>\n",
              "      <td>3120</td>\n",
              "      <td>2017-05-21</td>\n",
              "      <td>True</td>\n",
              "      <td>Approved</td>\n",
              "      <td>Trek Bicycles</td>\n",
              "      <td>Standard</td>\n",
              "      <td>medium</td>\n",
              "      <td>large</td>\n",
              "      <td>2091.47</td>\n",
              "      <td>388.92</td>\n",
              "      <td>2014-03-03</td>\n",
              "    </tr>\n",
              "    <tr>\n",
              "      <th>3</th>\n",
              "      <td>37</td>\n",
              "      <td>402</td>\n",
              "      <td>2017-10-16</td>\n",
              "      <td>False</td>\n",
              "      <td>Approved</td>\n",
              "      <td>OHM Cycles</td>\n",
              "      <td>Standard</td>\n",
              "      <td>low</td>\n",
              "      <td>medium</td>\n",
              "      <td>1793.43</td>\n",
              "      <td>248.82</td>\n",
              "      <td>1999-07-20</td>\n",
              "    </tr>\n",
              "    <tr>\n",
              "      <th>4</th>\n",
              "      <td>88</td>\n",
              "      <td>3135</td>\n",
              "      <td>2017-08-31</td>\n",
              "      <td>False</td>\n",
              "      <td>Approved</td>\n",
              "      <td>Norco Bicycles</td>\n",
              "      <td>Standard</td>\n",
              "      <td>medium</td>\n",
              "      <td>medium</td>\n",
              "      <td>1198.46</td>\n",
              "      <td>381.10</td>\n",
              "      <td>1998-12-16</td>\n",
              "    </tr>\n",
              "    <tr>\n",
              "      <th>5</th>\n",
              "      <td>78</td>\n",
              "      <td>787</td>\n",
              "      <td>2017-10-01</td>\n",
              "      <td>True</td>\n",
              "      <td>Approved</td>\n",
              "      <td>Giant Bicycles</td>\n",
              "      <td>Standard</td>\n",
              "      <td>medium</td>\n",
              "      <td>large</td>\n",
              "      <td>1765.30</td>\n",
              "      <td>709.48</td>\n",
              "      <td>2015-08-10</td>\n",
              "    </tr>\n",
              "  </tbody>\n",
              "</table>\n",
              "</div>"
            ],
            "text/plain": [
              "                product_id  customer_id  ... standard_cost product_first_sold_date\n",
              "transaction_id                           ...                                      \n",
              "1                        2         2950  ...         53.62              2012-12-02\n",
              "2                        3         3120  ...        388.92              2014-03-03\n",
              "3                       37          402  ...        248.82              1999-07-20\n",
              "4                       88         3135  ...        381.10              1998-12-16\n",
              "5                       78          787  ...        709.48              2015-08-10\n",
              "\n",
              "[5 rows x 12 columns]"
            ]
          },
          "metadata": {
            "tags": []
          },
          "execution_count": 13
        }
      ]
    },
    {
      "cell_type": "code",
      "metadata": {
        "colab": {
          "base_uri": "https://localhost:8080/",
          "height": 357
        },
        "id": "QUTEXktDM5GB",
        "outputId": "640d0f5d-d68a-4d26-ceeb-4b69f171da07"
      },
      "source": [
        "#Histograma price\n",
        "sns.set(style='white')\n",
        "sns.distplot(transactions['list_price'], kde=False, norm_hist=False, bins=20)"
      ],
      "execution_count": 20,
      "outputs": [
        {
          "output_type": "stream",
          "text": [
            "/usr/local/lib/python3.7/dist-packages/seaborn/distributions.py:2557: FutureWarning: `distplot` is a deprecated function and will be removed in a future version. Please adapt your code to use either `displot` (a figure-level function with similar flexibility) or `histplot` (an axes-level function for histograms).\n",
            "  warnings.warn(msg, FutureWarning)\n"
          ],
          "name": "stderr"
        },
        {
          "output_type": "execute_result",
          "data": {
            "text/plain": [
              "<matplotlib.axes._subplots.AxesSubplot at 0x7fc4f4e83ad0>"
            ]
          },
          "metadata": {
            "tags": []
          },
          "execution_count": 20
        },
        {
          "output_type": "display_data",
          "data": {
            "image/png": "[encoded data removed]",
            "text/plain": [
              "<Figure size 432x288 with 1 Axes>"
            ]
          },
          "metadata": {
            "tags": []
          }
        }
      ]
    },
    {
      "cell_type": "code",
      "metadata": {
        "colab": {
          "base_uri": "https://localhost:8080/",
          "height": 357
        },
        "id": "jgJjV1PPNKrE",
        "outputId": "9d84d2ec-d7b5-47e4-894e-ada812e954fc"
      },
      "source": [
        "#Histograma cost\n",
        "sns.set(style='white')\n",
        "sns.distplot(transactions['standard_cost'], kde=False, norm_hist=False, bins=20)"
      ],
      "execution_count": 19,
      "outputs": [
        {
          "output_type": "stream",
          "text": [
            "/usr/local/lib/python3.7/dist-packages/seaborn/distributions.py:2557: FutureWarning: `distplot` is a deprecated function and will be removed in a future version. Please adapt your code to use either `displot` (a figure-level function with similar flexibility) or `histplot` (an axes-level function for histograms).\n",
            "  warnings.warn(msg, FutureWarning)\n"
          ],
          "name": "stderr"
        },
        {
          "output_type": "execute_result",
          "data": {
            "text/plain": [
              "<matplotlib.axes._subplots.AxesSubplot at 0x7fc4f5046150>"
            ]
          },
          "metadata": {
            "tags": []
          },
          "execution_count": 19
        },
        {
          "output_type": "display_data",
          "data": {
            "image/png": "[encoded data removed]",
            "text/plain": [
              "<Figure size 432x288 with 1 Axes>"
            ]
          },
          "metadata": {
            "tags": []
          }
        }
      ]
    },
    {
      "cell_type": "code",
      "metadata": {
        "id": "Kr22MkRcNlUt"
      },
      "source": [
        "#Labeling graficos\n",
        "\n",
        "import pandas as pd\n",
        "import matplotlib.pyplot as plt\n",
        "import seaborn as sns\n",
        "sns.set(style='white')"
      ],
      "execution_count": 25,
      "outputs": []
    },
    {
      "cell_type": "code",
      "metadata": {
        "colab": {
          "base_uri": "https://localhost:8080/",
          "height": 613
        },
        "id": "B_lgZWEbOohY",
        "outputId": "826288f2-551e-4df3-af04-b5a05ca874f9"
      },
      "source": [
        "transactions\n"
      ],
      "execution_count": 29,
      "outputs": [
        {
          "output_type": "execute_result",
          "data": {
            "text/html": [
              "<div>\n",
              "<style scoped>\n",
              "    .dataframe tbody tr th:only-of-type {\n",
              "        vertical-align: middle;\n",
              "    }\n",
              "\n",
              "    .dataframe tbody tr th {\n",
              "        vertical-align: top;\n",
              "    }\n",
              "\n",
              "    .dataframe thead th {\n",
              "        text-align: right;\n",
              "    }\n",
              "</style>\n",
              "<table border=\"1\" class=\"dataframe\">\n",
              "  <thead>\n",
              "    <tr style=\"text-align: right;\">\n",
              "      <th></th>\n",
              "      <th>product_id</th>\n",
              "      <th>customer_id</th>\n",
              "      <th>transaction_date</th>\n",
              "      <th>online_order</th>\n",
              "      <th>order_status</th>\n",
              "      <th>brand</th>\n",
              "      <th>product_line</th>\n",
              "      <th>product_class</th>\n",
              "      <th>product_size</th>\n",
              "      <th>list_price</th>\n",
              "      <th>standard_cost</th>\n",
              "      <th>product_first_sold_date</th>\n",
              "    </tr>\n",
              "    <tr>\n",
              "      <th>transaction_id</th>\n",
              "      <th></th>\n",
              "      <th></th>\n",
              "      <th></th>\n",
              "      <th></th>\n",
              "      <th></th>\n",
              "      <th></th>\n",
              "      <th></th>\n",
              "      <th></th>\n",
              "      <th></th>\n",
              "      <th></th>\n",
              "      <th></th>\n",
              "      <th></th>\n",
              "    </tr>\n",
              "  </thead>\n",
              "  <tbody>\n",
              "    <tr>\n",
              "      <th>1</th>\n",
              "      <td>2</td>\n",
              "      <td>2950</td>\n",
              "      <td>2017-02-25</td>\n",
              "      <td>False</td>\n",
              "      <td>Approved</td>\n",
              "      <td>Solex</td>\n",
              "      <td>Standard</td>\n",
              "      <td>medium</td>\n",
              "      <td>medium</td>\n",
              "      <td>71.49</td>\n",
              "      <td>53.62</td>\n",
              "      <td>2012-12-02</td>\n",
              "    </tr>\n",
              "    <tr>\n",
              "      <th>2</th>\n",
              "      <td>3</td>\n",
              "      <td>3120</td>\n",
              "      <td>2017-05-21</td>\n",
              "      <td>True</td>\n",
              "      <td>Approved</td>\n",
              "      <td>Trek Bicycles</td>\n",
              "      <td>Standard</td>\n",
              "      <td>medium</td>\n",
              "      <td>large</td>\n",
              "      <td>2091.47</td>\n",
              "      <td>388.92</td>\n",
              "      <td>2014-03-03</td>\n",
              "    </tr>\n",
              "    <tr>\n",
              "      <th>3</th>\n",
              "      <td>37</td>\n",
              "      <td>402</td>\n",
              "      <td>2017-10-16</td>\n",
              "      <td>False</td>\n",
              "      <td>Approved</td>\n",
              "      <td>OHM Cycles</td>\n",
              "      <td>Standard</td>\n",
              "      <td>low</td>\n",
              "      <td>medium</td>\n",
              "      <td>1793.43</td>\n",
              "      <td>248.82</td>\n",
              "      <td>1999-07-20</td>\n",
              "    </tr>\n",
              "    <tr>\n",
              "      <th>4</th>\n",
              "      <td>88</td>\n",
              "      <td>3135</td>\n",
              "      <td>2017-08-31</td>\n",
              "      <td>False</td>\n",
              "      <td>Approved</td>\n",
              "      <td>Norco Bicycles</td>\n",
              "      <td>Standard</td>\n",
              "      <td>medium</td>\n",
              "      <td>medium</td>\n",
              "      <td>1198.46</td>\n",
              "      <td>381.10</td>\n",
              "      <td>1998-12-16</td>\n",
              "    </tr>\n",
              "    <tr>\n",
              "      <th>5</th>\n",
              "      <td>78</td>\n",
              "      <td>787</td>\n",
              "      <td>2017-10-01</td>\n",
              "      <td>True</td>\n",
              "      <td>Approved</td>\n",
              "      <td>Giant Bicycles</td>\n",
              "      <td>Standard</td>\n",
              "      <td>medium</td>\n",
              "      <td>large</td>\n",
              "      <td>1765.30</td>\n",
              "      <td>709.48</td>\n",
              "      <td>2015-08-10</td>\n",
              "    </tr>\n",
              "    <tr>\n",
              "      <th>...</th>\n",
              "      <td>...</td>\n",
              "      <td>...</td>\n",
              "      <td>...</td>\n",
              "      <td>...</td>\n",
              "      <td>...</td>\n",
              "      <td>...</td>\n",
              "      <td>...</td>\n",
              "      <td>...</td>\n",
              "      <td>...</td>\n",
              "      <td>...</td>\n",
              "      <td>...</td>\n",
              "      <td>...</td>\n",
              "    </tr>\n",
              "    <tr>\n",
              "      <th>19996</th>\n",
              "      <td>51</td>\n",
              "      <td>1018</td>\n",
              "      <td>2017-06-24</td>\n",
              "      <td>True</td>\n",
              "      <td>Approved</td>\n",
              "      <td>OHM Cycles</td>\n",
              "      <td>Standard</td>\n",
              "      <td>high</td>\n",
              "      <td>medium</td>\n",
              "      <td>2005.66</td>\n",
              "      <td>1203.40</td>\n",
              "      <td>2003-07-21</td>\n",
              "    </tr>\n",
              "    <tr>\n",
              "      <th>19997</th>\n",
              "      <td>41</td>\n",
              "      <td>127</td>\n",
              "      <td>2017-11-09</td>\n",
              "      <td>True</td>\n",
              "      <td>Approved</td>\n",
              "      <td>Solex</td>\n",
              "      <td>Road</td>\n",
              "      <td>medium</td>\n",
              "      <td>medium</td>\n",
              "      <td>416.98</td>\n",
              "      <td>312.74</td>\n",
              "      <td>1997-05-10</td>\n",
              "    </tr>\n",
              "    <tr>\n",
              "      <th>19998</th>\n",
              "      <td>87</td>\n",
              "      <td>2284</td>\n",
              "      <td>2017-04-14</td>\n",
              "      <td>True</td>\n",
              "      <td>Approved</td>\n",
              "      <td>OHM Cycles</td>\n",
              "      <td>Standard</td>\n",
              "      <td>medium</td>\n",
              "      <td>medium</td>\n",
              "      <td>1636.90</td>\n",
              "      <td>44.71</td>\n",
              "      <td>2010-08-20</td>\n",
              "    </tr>\n",
              "    <tr>\n",
              "      <th>19999</th>\n",
              "      <td>6</td>\n",
              "      <td>2764</td>\n",
              "      <td>2017-07-03</td>\n",
              "      <td>False</td>\n",
              "      <td>Approved</td>\n",
              "      <td>OHM Cycles</td>\n",
              "      <td>Standard</td>\n",
              "      <td>high</td>\n",
              "      <td>medium</td>\n",
              "      <td>227.88</td>\n",
              "      <td>136.73</td>\n",
              "      <td>2004-08-17</td>\n",
              "    </tr>\n",
              "    <tr>\n",
              "      <th>20000</th>\n",
              "      <td>11</td>\n",
              "      <td>1144</td>\n",
              "      <td>2017-09-22</td>\n",
              "      <td>True</td>\n",
              "      <td>Approved</td>\n",
              "      <td>Trek Bicycles</td>\n",
              "      <td>Standard</td>\n",
              "      <td>medium</td>\n",
              "      <td>small</td>\n",
              "      <td>1775.81</td>\n",
              "      <td>1580.47</td>\n",
              "      <td>1999-06-23</td>\n",
              "    </tr>\n",
              "  </tbody>\n",
              "</table>\n",
              "<p>20000 rows × 12 columns</p>\n",
              "</div>"
            ],
            "text/plain": [
              "                product_id  customer_id  ... standard_cost product_first_sold_date\n",
              "transaction_id                           ...                                      \n",
              "1                        2         2950  ...         53.62              2012-12-02\n",
              "2                        3         3120  ...        388.92              2014-03-03\n",
              "3                       37          402  ...        248.82              1999-07-20\n",
              "4                       88         3135  ...        381.10              1998-12-16\n",
              "5                       78          787  ...        709.48              2015-08-10\n",
              "...                    ...          ...  ...           ...                     ...\n",
              "19996                   51         1018  ...       1203.40              2003-07-21\n",
              "19997                   41          127  ...        312.74              1997-05-10\n",
              "19998                   87         2284  ...         44.71              2010-08-20\n",
              "19999                    6         2764  ...        136.73              2004-08-17\n",
              "20000                   11         1144  ...       1580.47              1999-06-23\n",
              "\n",
              "[20000 rows x 12 columns]"
            ]
          },
          "metadata": {
            "tags": []
          },
          "execution_count": 29
        }
      ]
    },
    {
      "cell_type": "code",
      "metadata": {
        "colab": {
          "base_uri": "https://localhost:8080/",
          "height": 356
        },
        "id": "HQ5Sh2GkQu5t",
        "outputId": "072eb645-20f8-4abb-fa64-94d23f2d209f"
      },
      "source": [
        "#Precio de lista\n",
        "ax = sns.distplot(transactions['list_price'], kde=False, norm_hist=False)\n",
        "ax.set(title='Precio de lista', xlabel='precio', ylabel='conteo');"
      ],
      "execution_count": 27,
      "outputs": [
        {
          "output_type": "stream",
          "text": [
            "/usr/local/lib/python3.7/dist-packages/seaborn/distributions.py:2557: FutureWarning: `distplot` is a deprecated function and will be removed in a future version. Please adapt your code to use either `displot` (a figure-level function with similar flexibility) or `histplot` (an axes-level function for histograms).\n",
            "  warnings.warn(msg, FutureWarning)\n"
          ],
          "name": "stderr"
        },
        {
          "output_type": "display_data",
          "data": {
            "image/png": "[encoded data removed]",
            "text/plain": [
              "<Figure size 432x288 with 1 Axes>"
            ]
          },
          "metadata": {
            "tags": []
          }
        }
      ]
    },
    {
      "cell_type": "code",
      "metadata": {
        "colab": {
          "base_uri": "https://localhost:8080/",
          "height": 356
        },
        "id": "bIN3Mu5oRNyw",
        "outputId": "03a1c26d-b4b8-470c-afcd-cf5e50dee738"
      },
      "source": [
        "#Costo estandard\n",
        "ax = sns.distplot(transactions[\"standard_cost\"], kde=False, norm_hist=False)\n",
        "ax.set(title='Costo Standard', xlabel='costo', ylabel='conteo');"
      ],
      "execution_count": 28,
      "outputs": [
        {
          "output_type": "stream",
          "text": [
            "/usr/local/lib/python3.7/dist-packages/seaborn/distributions.py:2557: FutureWarning: `distplot` is a deprecated function and will be removed in a future version. Please adapt your code to use either `displot` (a figure-level function with similar flexibility) or `histplot` (an axes-level function for histograms).\n",
            "  warnings.warn(msg, FutureWarning)\n"
          ],
          "name": "stderr"
        },
        {
          "output_type": "display_data",
          "data": {
            "image/png": "[encoded data removed]",
            "text/plain": [
              "<Figure size 432x288 with 1 Axes>"
            ]
          },
          "metadata": {
            "tags": []
          }
        }
      ]
    },
    {
      "cell_type": "code",
      "metadata": {
        "id": "jZ-PNnvtRjIk"
      },
      "source": [
        "#Grafica de barras\n",
        "import pandas as pd\n",
        "import seaborn as sns\n",
        "sns.set_style('white')"
      ],
      "execution_count": 32,
      "outputs": []
    },
    {
      "cell_type": "code",
      "metadata": {
        "colab": {
          "base_uri": "https://localhost:8080/",
          "height": 648
        },
        "id": "W3i0c_XCU2Gx",
        "outputId": "b0199285-4e69-4927-facf-f382db164494"
      },
      "source": [
        "customer_demographics"
      ],
      "execution_count": 35,
      "outputs": [
        {
          "output_type": "execute_result",
          "data": {
            "text/html": [
              "<div>\n",
              "<style scoped>\n",
              "    .dataframe tbody tr th:only-of-type {\n",
              "        vertical-align: middle;\n",
              "    }\n",
              "\n",
              "    .dataframe tbody tr th {\n",
              "        vertical-align: top;\n",
              "    }\n",
              "\n",
              "    .dataframe thead th {\n",
              "        text-align: right;\n",
              "    }\n",
              "</style>\n",
              "<table border=\"1\" class=\"dataframe\">\n",
              "  <thead>\n",
              "    <tr style=\"text-align: right;\">\n",
              "      <th></th>\n",
              "      <th>first_name</th>\n",
              "      <th>last_name</th>\n",
              "      <th>gender</th>\n",
              "      <th>past_3_years_bike_related_purchases</th>\n",
              "      <th>DOB</th>\n",
              "      <th>job_title</th>\n",
              "      <th>job_industry_category</th>\n",
              "      <th>wealth_segment</th>\n",
              "      <th>deceased_indicator</th>\n",
              "      <th>owns_car</th>\n",
              "      <th>tenure</th>\n",
              "    </tr>\n",
              "    <tr>\n",
              "      <th>customer_id</th>\n",
              "      <th></th>\n",
              "      <th></th>\n",
              "      <th></th>\n",
              "      <th></th>\n",
              "      <th></th>\n",
              "      <th></th>\n",
              "      <th></th>\n",
              "      <th></th>\n",
              "      <th></th>\n",
              "      <th></th>\n",
              "      <th></th>\n",
              "    </tr>\n",
              "  </thead>\n",
              "  <tbody>\n",
              "    <tr>\n",
              "      <th>1</th>\n",
              "      <td>Laraine</td>\n",
              "      <td>Medendorp</td>\n",
              "      <td>F</td>\n",
              "      <td>93</td>\n",
              "      <td>1953-10-12</td>\n",
              "      <td>Executive Secretary</td>\n",
              "      <td>Health</td>\n",
              "      <td>Mass Customer</td>\n",
              "      <td>N</td>\n",
              "      <td>Yes</td>\n",
              "      <td>11.0</td>\n",
              "    </tr>\n",
              "    <tr>\n",
              "      <th>2</th>\n",
              "      <td>Eli</td>\n",
              "      <td>Bockman</td>\n",
              "      <td>M</td>\n",
              "      <td>81</td>\n",
              "      <td>1980-12-16</td>\n",
              "      <td>Administrative Officer</td>\n",
              "      <td>Financial Services</td>\n",
              "      <td>Mass Customer</td>\n",
              "      <td>N</td>\n",
              "      <td>Yes</td>\n",
              "      <td>16.0</td>\n",
              "    </tr>\n",
              "    <tr>\n",
              "      <th>3</th>\n",
              "      <td>Arlin</td>\n",
              "      <td>Dearle</td>\n",
              "      <td>M</td>\n",
              "      <td>61</td>\n",
              "      <td>1954-01-20</td>\n",
              "      <td>Recruiting Manager</td>\n",
              "      <td>Property</td>\n",
              "      <td>Mass Customer</td>\n",
              "      <td>N</td>\n",
              "      <td>Yes</td>\n",
              "      <td>15.0</td>\n",
              "    </tr>\n",
              "    <tr>\n",
              "      <th>4</th>\n",
              "      <td>Talbot</td>\n",
              "      <td>NaN</td>\n",
              "      <td>M</td>\n",
              "      <td>33</td>\n",
              "      <td>1961-10-03</td>\n",
              "      <td>NaN</td>\n",
              "      <td>IT</td>\n",
              "      <td>Mass Customer</td>\n",
              "      <td>N</td>\n",
              "      <td>No</td>\n",
              "      <td>7.0</td>\n",
              "    </tr>\n",
              "    <tr>\n",
              "      <th>5</th>\n",
              "      <td>Sheila-kathryn</td>\n",
              "      <td>Calton</td>\n",
              "      <td>F</td>\n",
              "      <td>56</td>\n",
              "      <td>1977-05-13</td>\n",
              "      <td>Senior Editor</td>\n",
              "      <td>NaN</td>\n",
              "      <td>Affluent Customer</td>\n",
              "      <td>N</td>\n",
              "      <td>Yes</td>\n",
              "      <td>8.0</td>\n",
              "    </tr>\n",
              "    <tr>\n",
              "      <th>...</th>\n",
              "      <td>...</td>\n",
              "      <td>...</td>\n",
              "      <td>...</td>\n",
              "      <td>...</td>\n",
              "      <td>...</td>\n",
              "      <td>...</td>\n",
              "      <td>...</td>\n",
              "      <td>...</td>\n",
              "      <td>...</td>\n",
              "      <td>...</td>\n",
              "      <td>...</td>\n",
              "    </tr>\n",
              "    <tr>\n",
              "      <th>3996</th>\n",
              "      <td>Rosalia</td>\n",
              "      <td>Halgarth</td>\n",
              "      <td>F</td>\n",
              "      <td>8</td>\n",
              "      <td>1975-08-09</td>\n",
              "      <td>VP Product Management</td>\n",
              "      <td>Health</td>\n",
              "      <td>Mass Customer</td>\n",
              "      <td>N</td>\n",
              "      <td>No</td>\n",
              "      <td>19.0</td>\n",
              "    </tr>\n",
              "    <tr>\n",
              "      <th>3997</th>\n",
              "      <td>Blanch</td>\n",
              "      <td>Nisuis</td>\n",
              "      <td>F</td>\n",
              "      <td>87</td>\n",
              "      <td>2001-07-13</td>\n",
              "      <td>Statistician II</td>\n",
              "      <td>Manufacturing</td>\n",
              "      <td>High Net Worth</td>\n",
              "      <td>N</td>\n",
              "      <td>Yes</td>\n",
              "      <td>1.0</td>\n",
              "    </tr>\n",
              "    <tr>\n",
              "      <th>3998</th>\n",
              "      <td>Sarene</td>\n",
              "      <td>Woolley</td>\n",
              "      <td>U</td>\n",
              "      <td>60</td>\n",
              "      <td>NaN</td>\n",
              "      <td>Assistant Manager</td>\n",
              "      <td>IT</td>\n",
              "      <td>High Net Worth</td>\n",
              "      <td>N</td>\n",
              "      <td>No</td>\n",
              "      <td>NaN</td>\n",
              "    </tr>\n",
              "    <tr>\n",
              "      <th>3999</th>\n",
              "      <td>Patrizius</td>\n",
              "      <td>NaN</td>\n",
              "      <td>M</td>\n",
              "      <td>11</td>\n",
              "      <td>1973-10-24</td>\n",
              "      <td>NaN</td>\n",
              "      <td>Manufacturing</td>\n",
              "      <td>Affluent Customer</td>\n",
              "      <td>N</td>\n",
              "      <td>Yes</td>\n",
              "      <td>10.0</td>\n",
              "    </tr>\n",
              "    <tr>\n",
              "      <th>4000</th>\n",
              "      <td>Kippy</td>\n",
              "      <td>Oldland</td>\n",
              "      <td>M</td>\n",
              "      <td>76</td>\n",
              "      <td>1991-11-05</td>\n",
              "      <td>Software Engineer IV</td>\n",
              "      <td>NaN</td>\n",
              "      <td>Affluent Customer</td>\n",
              "      <td>N</td>\n",
              "      <td>No</td>\n",
              "      <td>11.0</td>\n",
              "    </tr>\n",
              "  </tbody>\n",
              "</table>\n",
              "<p>4000 rows × 11 columns</p>\n",
              "</div>"
            ],
            "text/plain": [
              "                 first_name  last_name  ... owns_car  tenure\n",
              "customer_id                             ...                 \n",
              "1                   Laraine  Medendorp  ...      Yes    11.0\n",
              "2                       Eli    Bockman  ...      Yes    16.0\n",
              "3                     Arlin     Dearle  ...      Yes    15.0\n",
              "4                    Talbot        NaN  ...       No     7.0\n",
              "5            Sheila-kathryn     Calton  ...      Yes     8.0\n",
              "...                     ...        ...  ...      ...     ...\n",
              "3996                Rosalia   Halgarth  ...       No    19.0\n",
              "3997                 Blanch     Nisuis  ...      Yes     1.0\n",
              "3998                 Sarene    Woolley  ...       No     NaN\n",
              "3999              Patrizius        NaN  ...      Yes    10.0\n",
              "4000                  Kippy    Oldland  ...       No    11.0\n",
              "\n",
              "[4000 rows x 11 columns]"
            ]
          },
          "metadata": {
            "tags": []
          },
          "execution_count": 35
        }
      ]
    },
    {
      "cell_type": "code",
      "metadata": {
        "colab": {
          "base_uri": "https://localhost:8080/"
        },
        "id": "S-1lbqmjWZRQ",
        "outputId": "e490d6e7-1061-42d7-8bae-81fd34e5db65"
      },
      "source": [
        "customer_demographics['wealth_segment'].unique()"
      ],
      "execution_count": 37,
      "outputs": [
        {
          "output_type": "execute_result",
          "data": {
            "text/plain": [
              "array(['Mass Customer', 'Affluent Customer', 'High Net Worth'],\n",
              "      dtype=object)"
            ]
          },
          "metadata": {
            "tags": []
          },
          "execution_count": 37
        }
      ]
    },
    {
      "cell_type": "code",
      "metadata": {
        "id": "gf8ZI7nSWshb"
      },
      "source": [
        "counts_wealth_segment = customer_demographics['wealth_segment'].value_counts()"
      ],
      "execution_count": 40,
      "outputs": []
    },
    {
      "cell_type": "code",
      "metadata": {
        "colab": {
          "base_uri": "https://localhost:8080/",
          "height": 339
        },
        "id": "gVuBpxg5W1-L",
        "outputId": "0f17d311-8862-4a4c-9131-19dd7e1ba99e"
      },
      "source": [
        "ax = sns.barplot(counts_wealth_segment.index, counts_wealth_segment)\n",
        "ax.set_title('Conteo de Segmento')\n",
        "ax.set(ylabel='cuenta');"
      ],
      "execution_count": 42,
      "outputs": [
        {
          "output_type": "stream",
          "text": [
            "/usr/local/lib/python3.7/dist-packages/seaborn/_decorators.py:43: FutureWarning: Pass the following variables as keyword args: x, y. From version 0.12, the only valid positional argument will be `data`, and passing other arguments without an explicit keyword will result in an error or misinterpretation.\n",
            "  FutureWarning\n"
          ],
          "name": "stderr"
        },
        {
          "output_type": "display_data",
          "data": {
            "image/png": "[encoded data removed]",
            "text/plain": [
              "<Figure size 432x288 with 1 Axes>"
            ]
          },
          "metadata": {
            "tags": []
          }
        }
      ]
    },
    {
      "cell_type": "code",
      "metadata": {
        "colab": {
          "base_uri": "https://localhost:8080/"
        },
        "id": "q4Pk8n79XXrB",
        "outputId": "cfcde6a3-34a3-4a48-9658-d5a3043e2a2e"
      },
      "source": [
        "customer_demographics['owns_car'].unique()"
      ],
      "execution_count": 43,
      "outputs": [
        {
          "output_type": "execute_result",
          "data": {
            "text/plain": [
              "array(['Yes', 'No'], dtype=object)"
            ]
          },
          "metadata": {
            "tags": []
          },
          "execution_count": 43
        }
      ]
    },
    {
      "cell_type": "code",
      "metadata": {
        "id": "LW1Pv77DXrMi"
      },
      "source": [
        "counts_owns_car = customer_demographics['owns_car'].value_counts()"
      ],
      "execution_count": 44,
      "outputs": []
    },
    {
      "cell_type": "code",
      "metadata": {
        "colab": {
          "base_uri": "https://localhost:8080/",
          "height": 339
        },
        "id": "8XTVNicVXzj8",
        "outputId": "535d6aee-7b7f-4f54-eadb-3d1b04db59c1"
      },
      "source": [
        "ax = sns.barplot(counts_owns_car.index, counts_owns_car)\n",
        "ax.set_title('Conteo tiene auto')\n",
        "ax.set(ylabel='cuenta');"
      ],
      "execution_count": 45,
      "outputs": [
        {
          "output_type": "stream",
          "text": [
            "/usr/local/lib/python3.7/dist-packages/seaborn/_decorators.py:43: FutureWarning: Pass the following variables as keyword args: x, y. From version 0.12, the only valid positional argument will be `data`, and passing other arguments without an explicit keyword will result in an error or misinterpretation.\n",
            "  FutureWarning\n"
          ],
          "name": "stderr"
        },
        {
          "output_type": "display_data",
          "data": {
            "image/png": "[encoded data removed]",
            "text/plain": [
              "<Figure size 432x288 with 1 Axes>"
            ]
          },
          "metadata": {
            "tags": []
          }
        }
      ]
    },
    {
      "cell_type": "code",
      "metadata": {
        "colab": {
          "base_uri": "https://localhost:8080/"
        },
        "id": "3H09iz3iYK_B",
        "outputId": "08c11644-4e35-4c73-9517-386b946ccb49"
      },
      "source": [
        "counts_wealth_segment * 100 / counts_wealth_segment.sum()"
      ],
      "execution_count": 46,
      "outputs": [
        {
          "output_type": "execute_result",
          "data": {
            "text/plain": [
              "Mass Customer        50.000\n",
              "High Net Worth       25.525\n",
              "Affluent Customer    24.475\n",
              "Name: wealth_segment, dtype: float64"
            ]
          },
          "metadata": {
            "tags": []
          },
          "execution_count": 46
        }
      ]
    },
    {
      "cell_type": "code",
      "metadata": {
        "id": "8MMLDN59YR70"
      },
      "source": [
        "as_percentages_wm = counts_wealth_segment * 100 / counts_wealth_segment.sum()"
      ],
      "execution_count": 48,
      "outputs": []
    },
    {
      "cell_type": "code",
      "metadata": {
        "colab": {
          "base_uri": "https://localhost:8080/",
          "height": 339
        },
        "id": "EnSsjnrbYa29",
        "outputId": "658e64ff-889b-43b9-e4f3-007a1ba4afe3"
      },
      "source": [
        "ax = sns.barplot(as_percentages_wm.index, as_percentages_wm)\n",
        "ax.set_title('Conteo de Segmento (porcentajes)')\n",
        "ax.set(ylabel='porcentaje del total');"
      ],
      "execution_count": 52,
      "outputs": [
        {
          "output_type": "stream",
          "text": [
            "/usr/local/lib/python3.7/dist-packages/seaborn/_decorators.py:43: FutureWarning: Pass the following variables as keyword args: x, y. From version 0.12, the only valid positional argument will be `data`, and passing other arguments without an explicit keyword will result in an error or misinterpretation.\n",
            "  FutureWarning\n"
          ],
          "name": "stderr"
        },
        {
          "output_type": "display_data",
          "data": {
            "image/png": "[encoded data removed]",
            "text/plain": [
              "<Figure size 432x288 with 1 Axes>"
            ]
          },
          "metadata": {
            "tags": []
          }
        }
      ]
    },
    {
      "cell_type": "code",
      "metadata": {
        "id": "y_ZtVIHsZKKS"
      },
      "source": [
        "#Graficas con ejes multiples\n",
        "\n",
        "import pandas as pd\n",
        "import matplotlib.pyplot as plt\n",
        "import seaborn as sns\n",
        "sns.set_style('whitegrid')"
      ],
      "execution_count": 53,
      "outputs": []
    },
    {
      "cell_type": "code",
      "metadata": {
        "colab": {
          "base_uri": "https://localhost:8080/",
          "height": 648
        },
        "id": "KKN2sN_AZTby",
        "outputId": "e45df3f0-a545-447d-ccc0-ded763e8ef41"
      },
      "source": [
        "customer_demographics"
      ],
      "execution_count": 60,
      "outputs": [
        {
          "output_type": "execute_result",
          "data": {
            "text/html": [
              "<div>\n",
              "<style scoped>\n",
              "    .dataframe tbody tr th:only-of-type {\n",
              "        vertical-align: middle;\n",
              "    }\n",
              "\n",
              "    .dataframe tbody tr th {\n",
              "        vertical-align: top;\n",
              "    }\n",
              "\n",
              "    .dataframe thead th {\n",
              "        text-align: right;\n",
              "    }\n",
              "</style>\n",
              "<table border=\"1\" class=\"dataframe\">\n",
              "  <thead>\n",
              "    <tr style=\"text-align: right;\">\n",
              "      <th></th>\n",
              "      <th>first_name</th>\n",
              "      <th>last_name</th>\n",
              "      <th>gender</th>\n",
              "      <th>past_3_years_bike_related_purchases</th>\n",
              "      <th>DOB</th>\n",
              "      <th>job_title</th>\n",
              "      <th>job_industry_category</th>\n",
              "      <th>wealth_segment</th>\n",
              "      <th>deceased_indicator</th>\n",
              "      <th>owns_car</th>\n",
              "      <th>tenure</th>\n",
              "    </tr>\n",
              "    <tr>\n",
              "      <th>customer_id</th>\n",
              "      <th></th>\n",
              "      <th></th>\n",
              "      <th></th>\n",
              "      <th></th>\n",
              "      <th></th>\n",
              "      <th></th>\n",
              "      <th></th>\n",
              "      <th></th>\n",
              "      <th></th>\n",
              "      <th></th>\n",
              "      <th></th>\n",
              "    </tr>\n",
              "  </thead>\n",
              "  <tbody>\n",
              "    <tr>\n",
              "      <th>1</th>\n",
              "      <td>Laraine</td>\n",
              "      <td>Medendorp</td>\n",
              "      <td>F</td>\n",
              "      <td>93</td>\n",
              "      <td>1953-10-12</td>\n",
              "      <td>Executive Secretary</td>\n",
              "      <td>Health</td>\n",
              "      <td>Mass Customer</td>\n",
              "      <td>N</td>\n",
              "      <td>Yes</td>\n",
              "      <td>11.0</td>\n",
              "    </tr>\n",
              "    <tr>\n",
              "      <th>2</th>\n",
              "      <td>Eli</td>\n",
              "      <td>Bockman</td>\n",
              "      <td>M</td>\n",
              "      <td>81</td>\n",
              "      <td>1980-12-16</td>\n",
              "      <td>Administrative Officer</td>\n",
              "      <td>Financial Services</td>\n",
              "      <td>Mass Customer</td>\n",
              "      <td>N</td>\n",
              "      <td>Yes</td>\n",
              "      <td>16.0</td>\n",
              "    </tr>\n",
              "    <tr>\n",
              "      <th>3</th>\n",
              "      <td>Arlin</td>\n",
              "      <td>Dearle</td>\n",
              "      <td>M</td>\n",
              "      <td>61</td>\n",
              "      <td>1954-01-20</td>\n",
              "      <td>Recruiting Manager</td>\n",
              "      <td>Property</td>\n",
              "      <td>Mass Customer</td>\n",
              "      <td>N</td>\n",
              "      <td>Yes</td>\n",
              "      <td>15.0</td>\n",
              "    </tr>\n",
              "    <tr>\n",
              "      <th>4</th>\n",
              "      <td>Talbot</td>\n",
              "      <td>NaN</td>\n",
              "      <td>M</td>\n",
              "      <td>33</td>\n",
              "      <td>1961-10-03</td>\n",
              "      <td>NaN</td>\n",
              "      <td>IT</td>\n",
              "      <td>Mass Customer</td>\n",
              "      <td>N</td>\n",
              "      <td>No</td>\n",
              "      <td>7.0</td>\n",
              "    </tr>\n",
              "    <tr>\n",
              "      <th>5</th>\n",
              "      <td>Sheila-kathryn</td>\n",
              "      <td>Calton</td>\n",
              "      <td>F</td>\n",
              "      <td>56</td>\n",
              "      <td>1977-05-13</td>\n",
              "      <td>Senior Editor</td>\n",
              "      <td>NaN</td>\n",
              "      <td>Affluent Customer</td>\n",
              "      <td>N</td>\n",
              "      <td>Yes</td>\n",
              "      <td>8.0</td>\n",
              "    </tr>\n",
              "    <tr>\n",
              "      <th>...</th>\n",
              "      <td>...</td>\n",
              "      <td>...</td>\n",
              "      <td>...</td>\n",
              "      <td>...</td>\n",
              "      <td>...</td>\n",
              "      <td>...</td>\n",
              "      <td>...</td>\n",
              "      <td>...</td>\n",
              "      <td>...</td>\n",
              "      <td>...</td>\n",
              "      <td>...</td>\n",
              "    </tr>\n",
              "    <tr>\n",
              "      <th>3996</th>\n",
              "      <td>Rosalia</td>\n",
              "      <td>Halgarth</td>\n",
              "      <td>F</td>\n",
              "      <td>8</td>\n",
              "      <td>1975-08-09</td>\n",
              "      <td>VP Product Management</td>\n",
              "      <td>Health</td>\n",
              "      <td>Mass Customer</td>\n",
              "      <td>N</td>\n",
              "      <td>No</td>\n",
              "      <td>19.0</td>\n",
              "    </tr>\n",
              "    <tr>\n",
              "      <th>3997</th>\n",
              "      <td>Blanch</td>\n",
              "      <td>Nisuis</td>\n",
              "      <td>F</td>\n",
              "      <td>87</td>\n",
              "      <td>2001-07-13</td>\n",
              "      <td>Statistician II</td>\n",
              "      <td>Manufacturing</td>\n",
              "      <td>High Net Worth</td>\n",
              "      <td>N</td>\n",
              "      <td>Yes</td>\n",
              "      <td>1.0</td>\n",
              "    </tr>\n",
              "    <tr>\n",
              "      <th>3998</th>\n",
              "      <td>Sarene</td>\n",
              "      <td>Woolley</td>\n",
              "      <td>U</td>\n",
              "      <td>60</td>\n",
              "      <td>NaN</td>\n",
              "      <td>Assistant Manager</td>\n",
              "      <td>IT</td>\n",
              "      <td>High Net Worth</td>\n",
              "      <td>N</td>\n",
              "      <td>No</td>\n",
              "      <td>NaN</td>\n",
              "    </tr>\n",
              "    <tr>\n",
              "      <th>3999</th>\n",
              "      <td>Patrizius</td>\n",
              "      <td>NaN</td>\n",
              "      <td>M</td>\n",
              "      <td>11</td>\n",
              "      <td>1973-10-24</td>\n",
              "      <td>NaN</td>\n",
              "      <td>Manufacturing</td>\n",
              "      <td>Affluent Customer</td>\n",
              "      <td>N</td>\n",
              "      <td>Yes</td>\n",
              "      <td>10.0</td>\n",
              "    </tr>\n",
              "    <tr>\n",
              "      <th>4000</th>\n",
              "      <td>Kippy</td>\n",
              "      <td>Oldland</td>\n",
              "      <td>M</td>\n",
              "      <td>76</td>\n",
              "      <td>1991-11-05</td>\n",
              "      <td>Software Engineer IV</td>\n",
              "      <td>NaN</td>\n",
              "      <td>Affluent Customer</td>\n",
              "      <td>N</td>\n",
              "      <td>No</td>\n",
              "      <td>11.0</td>\n",
              "    </tr>\n",
              "  </tbody>\n",
              "</table>\n",
              "<p>4000 rows × 11 columns</p>\n",
              "</div>"
            ],
            "text/plain": [
              "                 first_name  last_name  ... owns_car  tenure\n",
              "customer_id                             ...                 \n",
              "1                   Laraine  Medendorp  ...      Yes    11.0\n",
              "2                       Eli    Bockman  ...      Yes    16.0\n",
              "3                     Arlin     Dearle  ...      Yes    15.0\n",
              "4                    Talbot        NaN  ...       No     7.0\n",
              "5            Sheila-kathryn     Calton  ...      Yes     8.0\n",
              "...                     ...        ...  ...      ...     ...\n",
              "3996                Rosalia   Halgarth  ...       No    19.0\n",
              "3997                 Blanch     Nisuis  ...      Yes     1.0\n",
              "3998                 Sarene    Woolley  ...       No     NaN\n",
              "3999              Patrizius        NaN  ...      Yes    10.0\n",
              "4000                  Kippy    Oldland  ...       No    11.0\n",
              "\n",
              "[4000 rows x 11 columns]"
            ]
          },
          "metadata": {
            "tags": []
          },
          "execution_count": 60
        }
      ]
    },
    {
      "cell_type": "code",
      "metadata": {
        "colab": {
          "base_uri": "https://localhost:8080/",
          "height": 143
        },
        "id": "ohX02Zzxdi3z",
        "outputId": "5b945d18-2aba-4679-ef51-d5c5566a8799"
      },
      "source": [
        "crosstab = pd.crosstab(customer_demographics[\"owns_car\"],customer_demographics[\"wealth_segment\"])\n",
        "\n",
        "crosstab"
      ],
      "execution_count": 58,
      "outputs": [
        {
          "output_type": "execute_result",
          "data": {
            "text/html": [
              "<div>\n",
              "<style scoped>\n",
              "    .dataframe tbody tr th:only-of-type {\n",
              "        vertical-align: middle;\n",
              "    }\n",
              "\n",
              "    .dataframe tbody tr th {\n",
              "        vertical-align: top;\n",
              "    }\n",
              "\n",
              "    .dataframe thead th {\n",
              "        text-align: right;\n",
              "    }\n",
              "</style>\n",
              "<table border=\"1\" class=\"dataframe\">\n",
              "  <thead>\n",
              "    <tr style=\"text-align: right;\">\n",
              "      <th>wealth_segment</th>\n",
              "      <th>Affluent Customer</th>\n",
              "      <th>High Net Worth</th>\n",
              "      <th>Mass Customer</th>\n",
              "    </tr>\n",
              "    <tr>\n",
              "      <th>owns_car</th>\n",
              "      <th></th>\n",
              "      <th></th>\n",
              "      <th></th>\n",
              "    </tr>\n",
              "  </thead>\n",
              "  <tbody>\n",
              "    <tr>\n",
              "      <th>No</th>\n",
              "      <td>468</td>\n",
              "      <td>500</td>\n",
              "      <td>1008</td>\n",
              "    </tr>\n",
              "    <tr>\n",
              "      <th>Yes</th>\n",
              "      <td>511</td>\n",
              "      <td>521</td>\n",
              "      <td>992</td>\n",
              "    </tr>\n",
              "  </tbody>\n",
              "</table>\n",
              "</div>"
            ],
            "text/plain": [
              "wealth_segment  Affluent Customer  High Net Worth  Mass Customer\n",
              "owns_car                                                        \n",
              "No                            468             500           1008\n",
              "Yes                           511             521            992"
            ]
          },
          "metadata": {
            "tags": []
          },
          "execution_count": 58
        }
      ]
    },
    {
      "cell_type": "code",
      "metadata": {
        "colab": {
          "base_uri": "https://localhost:8080/",
          "height": 327
        },
        "id": "EwMUeI63zYW5",
        "outputId": "1bdeb7da-c679-4935-9fd4-6b0a944f93c1"
      },
      "source": [
        "#Join \n",
        "\n",
        "customer_address\n",
        "customer_demographics\n",
        "transactions.head()"
      ],
      "execution_count": 65,
      "outputs": [
        {
          "output_type": "execute_result",
          "data": {
            "text/html": [
              "<div>\n",
              "<style scoped>\n",
              "    .dataframe tbody tr th:only-of-type {\n",
              "        vertical-align: middle;\n",
              "    }\n",
              "\n",
              "    .dataframe tbody tr th {\n",
              "        vertical-align: top;\n",
              "    }\n",
              "\n",
              "    .dataframe thead th {\n",
              "        text-align: right;\n",
              "    }\n",
              "</style>\n",
              "<table border=\"1\" class=\"dataframe\">\n",
              "  <thead>\n",
              "    <tr style=\"text-align: right;\">\n",
              "      <th></th>\n",
              "      <th>product_id</th>\n",
              "      <th>customer_id</th>\n",
              "      <th>transaction_date</th>\n",
              "      <th>online_order</th>\n",
              "      <th>order_status</th>\n",
              "      <th>brand</th>\n",
              "      <th>product_line</th>\n",
              "      <th>product_class</th>\n",
              "      <th>product_size</th>\n",
              "      <th>list_price</th>\n",
              "      <th>standard_cost</th>\n",
              "      <th>product_first_sold_date</th>\n",
              "    </tr>\n",
              "    <tr>\n",
              "      <th>transaction_id</th>\n",
              "      <th></th>\n",
              "      <th></th>\n",
              "      <th></th>\n",
              "      <th></th>\n",
              "      <th></th>\n",
              "      <th></th>\n",
              "      <th></th>\n",
              "      <th></th>\n",
              "      <th></th>\n",
              "      <th></th>\n",
              "      <th></th>\n",
              "      <th></th>\n",
              "    </tr>\n",
              "  </thead>\n",
              "  <tbody>\n",
              "    <tr>\n",
              "      <th>1</th>\n",
              "      <td>2</td>\n",
              "      <td>2950</td>\n",
              "      <td>2017-02-25</td>\n",
              "      <td>False</td>\n",
              "      <td>Approved</td>\n",
              "      <td>Solex</td>\n",
              "      <td>Standard</td>\n",
              "      <td>medium</td>\n",
              "      <td>medium</td>\n",
              "      <td>71.49</td>\n",
              "      <td>53.62</td>\n",
              "      <td>2012-12-02</td>\n",
              "    </tr>\n",
              "    <tr>\n",
              "      <th>2</th>\n",
              "      <td>3</td>\n",
              "      <td>3120</td>\n",
              "      <td>2017-05-21</td>\n",
              "      <td>True</td>\n",
              "      <td>Approved</td>\n",
              "      <td>Trek Bicycles</td>\n",
              "      <td>Standard</td>\n",
              "      <td>medium</td>\n",
              "      <td>large</td>\n",
              "      <td>2091.47</td>\n",
              "      <td>388.92</td>\n",
              "      <td>2014-03-03</td>\n",
              "    </tr>\n",
              "    <tr>\n",
              "      <th>3</th>\n",
              "      <td>37</td>\n",
              "      <td>402</td>\n",
              "      <td>2017-10-16</td>\n",
              "      <td>False</td>\n",
              "      <td>Approved</td>\n",
              "      <td>OHM Cycles</td>\n",
              "      <td>Standard</td>\n",
              "      <td>low</td>\n",
              "      <td>medium</td>\n",
              "      <td>1793.43</td>\n",
              "      <td>248.82</td>\n",
              "      <td>1999-07-20</td>\n",
              "    </tr>\n",
              "    <tr>\n",
              "      <th>4</th>\n",
              "      <td>88</td>\n",
              "      <td>3135</td>\n",
              "      <td>2017-08-31</td>\n",
              "      <td>False</td>\n",
              "      <td>Approved</td>\n",
              "      <td>Norco Bicycles</td>\n",
              "      <td>Standard</td>\n",
              "      <td>medium</td>\n",
              "      <td>medium</td>\n",
              "      <td>1198.46</td>\n",
              "      <td>381.10</td>\n",
              "      <td>1998-12-16</td>\n",
              "    </tr>\n",
              "    <tr>\n",
              "      <th>5</th>\n",
              "      <td>78</td>\n",
              "      <td>787</td>\n",
              "      <td>2017-10-01</td>\n",
              "      <td>True</td>\n",
              "      <td>Approved</td>\n",
              "      <td>Giant Bicycles</td>\n",
              "      <td>Standard</td>\n",
              "      <td>medium</td>\n",
              "      <td>large</td>\n",
              "      <td>1765.30</td>\n",
              "      <td>709.48</td>\n",
              "      <td>2015-08-10</td>\n",
              "    </tr>\n",
              "  </tbody>\n",
              "</table>\n",
              "</div>"
            ],
            "text/plain": [
              "                product_id  customer_id  ... standard_cost product_first_sold_date\n",
              "transaction_id                           ...                                      \n",
              "1                        2         2950  ...         53.62              2012-12-02\n",
              "2                        3         3120  ...        388.92              2014-03-03\n",
              "3                       37          402  ...        248.82              1999-07-20\n",
              "4                       88         3135  ...        381.10              1998-12-16\n",
              "5                       78          787  ...        709.48              2015-08-10\n",
              "\n",
              "[5 rows x 12 columns]"
            ]
          },
          "metadata": {
            "tags": []
          },
          "execution_count": 65
        }
      ]
    },
    {
      "cell_type": "code",
      "metadata": {
        "id": "WZ3nWAbDz1gP"
      },
      "source": [
        "#Inner join customer demographics & customer address\n",
        "\n",
        "import pandas as pd\n"
      ],
      "execution_count": 66,
      "outputs": []
    },
    {
      "cell_type": "code",
      "metadata": {
        "colab": {
          "base_uri": "https://localhost:8080/",
          "height": 448
        },
        "id": "riMP18r20LUA",
        "outputId": "6235c942-95c4-4dc0-a289-aff4928bf482"
      },
      "source": [
        "cust_demographics_address = pd.merge(customer_demographics,customer_address, on=\"customer_id\",how=\"inner\")\n",
        "\n",
        "cust_demographics_address.head()"
      ],
      "execution_count": 69,
      "outputs": [
        {
          "output_type": "execute_result",
          "data": {
            "text/html": [
              "<div>\n",
              "<style scoped>\n",
              "    .dataframe tbody tr th:only-of-type {\n",
              "        vertical-align: middle;\n",
              "    }\n",
              "\n",
              "    .dataframe tbody tr th {\n",
              "        vertical-align: top;\n",
              "    }\n",
              "\n",
              "    .dataframe thead th {\n",
              "        text-align: right;\n",
              "    }\n",
              "</style>\n",
              "<table border=\"1\" class=\"dataframe\">\n",
              "  <thead>\n",
              "    <tr style=\"text-align: right;\">\n",
              "      <th></th>\n",
              "      <th>first_name</th>\n",
              "      <th>last_name</th>\n",
              "      <th>gender</th>\n",
              "      <th>past_3_years_bike_related_purchases</th>\n",
              "      <th>DOB</th>\n",
              "      <th>job_title</th>\n",
              "      <th>job_industry_category</th>\n",
              "      <th>wealth_segment</th>\n",
              "      <th>deceased_indicator</th>\n",
              "      <th>owns_car</th>\n",
              "      <th>tenure</th>\n",
              "      <th>address</th>\n",
              "      <th>postcode</th>\n",
              "      <th>state</th>\n",
              "      <th>country</th>\n",
              "      <th>property_valuation</th>\n",
              "    </tr>\n",
              "    <tr>\n",
              "      <th>customer_id</th>\n",
              "      <th></th>\n",
              "      <th></th>\n",
              "      <th></th>\n",
              "      <th></th>\n",
              "      <th></th>\n",
              "      <th></th>\n",
              "      <th></th>\n",
              "      <th></th>\n",
              "      <th></th>\n",
              "      <th></th>\n",
              "      <th></th>\n",
              "      <th></th>\n",
              "      <th></th>\n",
              "      <th></th>\n",
              "      <th></th>\n",
              "      <th></th>\n",
              "    </tr>\n",
              "  </thead>\n",
              "  <tbody>\n",
              "    <tr>\n",
              "      <th>1</th>\n",
              "      <td>Laraine</td>\n",
              "      <td>Medendorp</td>\n",
              "      <td>F</td>\n",
              "      <td>93</td>\n",
              "      <td>1953-10-12</td>\n",
              "      <td>Executive Secretary</td>\n",
              "      <td>Health</td>\n",
              "      <td>Mass Customer</td>\n",
              "      <td>N</td>\n",
              "      <td>Yes</td>\n",
              "      <td>11.0</td>\n",
              "      <td>060 Morning Avenue</td>\n",
              "      <td>2016</td>\n",
              "      <td>NSW</td>\n",
              "      <td>Australia</td>\n",
              "      <td>10</td>\n",
              "    </tr>\n",
              "    <tr>\n",
              "      <th>2</th>\n",
              "      <td>Eli</td>\n",
              "      <td>Bockman</td>\n",
              "      <td>M</td>\n",
              "      <td>81</td>\n",
              "      <td>1980-12-16</td>\n",
              "      <td>Administrative Officer</td>\n",
              "      <td>Financial Services</td>\n",
              "      <td>Mass Customer</td>\n",
              "      <td>N</td>\n",
              "      <td>Yes</td>\n",
              "      <td>16.0</td>\n",
              "      <td>6 Meadow Vale Court</td>\n",
              "      <td>2153</td>\n",
              "      <td>NSW</td>\n",
              "      <td>Australia</td>\n",
              "      <td>10</td>\n",
              "    </tr>\n",
              "    <tr>\n",
              "      <th>4</th>\n",
              "      <td>Talbot</td>\n",
              "      <td>NaN</td>\n",
              "      <td>M</td>\n",
              "      <td>33</td>\n",
              "      <td>1961-10-03</td>\n",
              "      <td>NaN</td>\n",
              "      <td>IT</td>\n",
              "      <td>Mass Customer</td>\n",
              "      <td>N</td>\n",
              "      <td>No</td>\n",
              "      <td>7.0</td>\n",
              "      <td>0 Holy Cross Court</td>\n",
              "      <td>4211</td>\n",
              "      <td>QLD</td>\n",
              "      <td>Australia</td>\n",
              "      <td>9</td>\n",
              "    </tr>\n",
              "    <tr>\n",
              "      <th>5</th>\n",
              "      <td>Sheila-kathryn</td>\n",
              "      <td>Calton</td>\n",
              "      <td>F</td>\n",
              "      <td>56</td>\n",
              "      <td>1977-05-13</td>\n",
              "      <td>Senior Editor</td>\n",
              "      <td>NaN</td>\n",
              "      <td>Affluent Customer</td>\n",
              "      <td>N</td>\n",
              "      <td>Yes</td>\n",
              "      <td>8.0</td>\n",
              "      <td>17979 Del Mar Point</td>\n",
              "      <td>2448</td>\n",
              "      <td>NSW</td>\n",
              "      <td>Australia</td>\n",
              "      <td>4</td>\n",
              "    </tr>\n",
              "    <tr>\n",
              "      <th>6</th>\n",
              "      <td>Curr</td>\n",
              "      <td>Duckhouse</td>\n",
              "      <td>M</td>\n",
              "      <td>35</td>\n",
              "      <td>1966-09-16</td>\n",
              "      <td>NaN</td>\n",
              "      <td>Retail</td>\n",
              "      <td>High Net Worth</td>\n",
              "      <td>N</td>\n",
              "      <td>Yes</td>\n",
              "      <td>13.0</td>\n",
              "      <td>9 Oakridge Court</td>\n",
              "      <td>3216</td>\n",
              "      <td>VIC</td>\n",
              "      <td>Australia</td>\n",
              "      <td>9</td>\n",
              "    </tr>\n",
              "  </tbody>\n",
              "</table>\n",
              "</div>"
            ],
            "text/plain": [
              "                 first_name  last_name  ...    country  property_valuation\n",
              "customer_id                             ...                               \n",
              "1                   Laraine  Medendorp  ...  Australia                  10\n",
              "2                       Eli    Bockman  ...  Australia                  10\n",
              "4                    Talbot        NaN  ...  Australia                   9\n",
              "5            Sheila-kathryn     Calton  ...  Australia                   4\n",
              "6                      Curr  Duckhouse  ...  Australia                   9\n",
              "\n",
              "[5 rows x 16 columns]"
            ]
          },
          "metadata": {
            "tags": []
          },
          "execution_count": 69
        }
      ]
    },
    {
      "cell_type": "code",
      "metadata": {
        "colab": {
          "base_uri": "https://localhost:8080/",
          "height": 399
        },
        "id": "rJUGO4nz025J",
        "outputId": "1800ec13-e027-45b4-82bc-6a6c2b7f60ee"
      },
      "source": [
        "cust_transactions =pd.merge(cust_demographics_address,transactions, on=\"customer_id\", how=\"inner\")\n",
        "\n",
        "cust_transactions.head()"
      ],
      "execution_count": 76,
      "outputs": [
        {
          "output_type": "execute_result",
          "data": {
            "text/html": [
              "<div>\n",
              "<style scoped>\n",
              "    .dataframe tbody tr th:only-of-type {\n",
              "        vertical-align: middle;\n",
              "    }\n",
              "\n",
              "    .dataframe tbody tr th {\n",
              "        vertical-align: top;\n",
              "    }\n",
              "\n",
              "    .dataframe thead th {\n",
              "        text-align: right;\n",
              "    }\n",
              "</style>\n",
              "<table border=\"1\" class=\"dataframe\">\n",
              "  <thead>\n",
              "    <tr style=\"text-align: right;\">\n",
              "      <th></th>\n",
              "      <th>customer_id</th>\n",
              "      <th>first_name</th>\n",
              "      <th>last_name</th>\n",
              "      <th>gender</th>\n",
              "      <th>past_3_years_bike_related_purchases</th>\n",
              "      <th>DOB</th>\n",
              "      <th>job_title</th>\n",
              "      <th>job_industry_category</th>\n",
              "      <th>wealth_segment</th>\n",
              "      <th>deceased_indicator</th>\n",
              "      <th>owns_car</th>\n",
              "      <th>tenure</th>\n",
              "      <th>address</th>\n",
              "      <th>postcode</th>\n",
              "      <th>state</th>\n",
              "      <th>country</th>\n",
              "      <th>property_valuation</th>\n",
              "      <th>product_id</th>\n",
              "      <th>transaction_date</th>\n",
              "      <th>online_order</th>\n",
              "      <th>order_status</th>\n",
              "      <th>brand</th>\n",
              "      <th>product_line</th>\n",
              "      <th>product_class</th>\n",
              "      <th>product_size</th>\n",
              "      <th>list_price</th>\n",
              "      <th>standard_cost</th>\n",
              "      <th>product_first_sold_date</th>\n",
              "    </tr>\n",
              "  </thead>\n",
              "  <tbody>\n",
              "    <tr>\n",
              "      <th>0</th>\n",
              "      <td>1</td>\n",
              "      <td>Laraine</td>\n",
              "      <td>Medendorp</td>\n",
              "      <td>F</td>\n",
              "      <td>93</td>\n",
              "      <td>1953-10-12</td>\n",
              "      <td>Executive Secretary</td>\n",
              "      <td>Health</td>\n",
              "      <td>Mass Customer</td>\n",
              "      <td>N</td>\n",
              "      <td>Yes</td>\n",
              "      <td>11.0</td>\n",
              "      <td>060 Morning Avenue</td>\n",
              "      <td>2016</td>\n",
              "      <td>NSW</td>\n",
              "      <td>Australia</td>\n",
              "      <td>10</td>\n",
              "      <td>86</td>\n",
              "      <td>2017-12-23</td>\n",
              "      <td>False</td>\n",
              "      <td>Approved</td>\n",
              "      <td>OHM Cycles</td>\n",
              "      <td>Standard</td>\n",
              "      <td>medium</td>\n",
              "      <td>medium</td>\n",
              "      <td>235.63</td>\n",
              "      <td>125.07</td>\n",
              "      <td>2005-05-10</td>\n",
              "    </tr>\n",
              "    <tr>\n",
              "      <th>1</th>\n",
              "      <td>1</td>\n",
              "      <td>Laraine</td>\n",
              "      <td>Medendorp</td>\n",
              "      <td>F</td>\n",
              "      <td>93</td>\n",
              "      <td>1953-10-12</td>\n",
              "      <td>Executive Secretary</td>\n",
              "      <td>Health</td>\n",
              "      <td>Mass Customer</td>\n",
              "      <td>N</td>\n",
              "      <td>Yes</td>\n",
              "      <td>11.0</td>\n",
              "      <td>060 Morning Avenue</td>\n",
              "      <td>2016</td>\n",
              "      <td>NSW</td>\n",
              "      <td>Australia</td>\n",
              "      <td>10</td>\n",
              "      <td>38</td>\n",
              "      <td>2017-04-06</td>\n",
              "      <td>True</td>\n",
              "      <td>Approved</td>\n",
              "      <td>Solex</td>\n",
              "      <td>Standard</td>\n",
              "      <td>medium</td>\n",
              "      <td>medium</td>\n",
              "      <td>1577.53</td>\n",
              "      <td>826.51</td>\n",
              "      <td>2008-03-19</td>\n",
              "    </tr>\n",
              "    <tr>\n",
              "      <th>2</th>\n",
              "      <td>1</td>\n",
              "      <td>Laraine</td>\n",
              "      <td>Medendorp</td>\n",
              "      <td>F</td>\n",
              "      <td>93</td>\n",
              "      <td>1953-10-12</td>\n",
              "      <td>Executive Secretary</td>\n",
              "      <td>Health</td>\n",
              "      <td>Mass Customer</td>\n",
              "      <td>N</td>\n",
              "      <td>Yes</td>\n",
              "      <td>11.0</td>\n",
              "      <td>060 Morning Avenue</td>\n",
              "      <td>2016</td>\n",
              "      <td>NSW</td>\n",
              "      <td>Australia</td>\n",
              "      <td>10</td>\n",
              "      <td>47</td>\n",
              "      <td>2017-05-11</td>\n",
              "      <td>True</td>\n",
              "      <td>Approved</td>\n",
              "      <td>Trek Bicycles</td>\n",
              "      <td>Road</td>\n",
              "      <td>low</td>\n",
              "      <td>small</td>\n",
              "      <td>1720.70</td>\n",
              "      <td>1531.42</td>\n",
              "      <td>2003-07-21</td>\n",
              "    </tr>\n",
              "    <tr>\n",
              "      <th>3</th>\n",
              "      <td>1</td>\n",
              "      <td>Laraine</td>\n",
              "      <td>Medendorp</td>\n",
              "      <td>F</td>\n",
              "      <td>93</td>\n",
              "      <td>1953-10-12</td>\n",
              "      <td>Executive Secretary</td>\n",
              "      <td>Health</td>\n",
              "      <td>Mass Customer</td>\n",
              "      <td>N</td>\n",
              "      <td>Yes</td>\n",
              "      <td>11.0</td>\n",
              "      <td>060 Morning Avenue</td>\n",
              "      <td>2016</td>\n",
              "      <td>NSW</td>\n",
              "      <td>Australia</td>\n",
              "      <td>10</td>\n",
              "      <td>72</td>\n",
              "      <td>2017-01-05</td>\n",
              "      <td>False</td>\n",
              "      <td>Approved</td>\n",
              "      <td>Norco Bicycles</td>\n",
              "      <td>Standard</td>\n",
              "      <td>medium</td>\n",
              "      <td>medium</td>\n",
              "      <td>360.40</td>\n",
              "      <td>270.30</td>\n",
              "      <td>2003-09-09</td>\n",
              "    </tr>\n",
              "    <tr>\n",
              "      <th>4</th>\n",
              "      <td>1</td>\n",
              "      <td>Laraine</td>\n",
              "      <td>Medendorp</td>\n",
              "      <td>F</td>\n",
              "      <td>93</td>\n",
              "      <td>1953-10-12</td>\n",
              "      <td>Executive Secretary</td>\n",
              "      <td>Health</td>\n",
              "      <td>Mass Customer</td>\n",
              "      <td>N</td>\n",
              "      <td>Yes</td>\n",
              "      <td>11.0</td>\n",
              "      <td>060 Morning Avenue</td>\n",
              "      <td>2016</td>\n",
              "      <td>NSW</td>\n",
              "      <td>Australia</td>\n",
              "      <td>10</td>\n",
              "      <td>2</td>\n",
              "      <td>2017-02-21</td>\n",
              "      <td>False</td>\n",
              "      <td>Approved</td>\n",
              "      <td>Solex</td>\n",
              "      <td>Standard</td>\n",
              "      <td>medium</td>\n",
              "      <td>medium</td>\n",
              "      <td>71.49</td>\n",
              "      <td>53.62</td>\n",
              "      <td>2005-08-09</td>\n",
              "    </tr>\n",
              "  </tbody>\n",
              "</table>\n",
              "</div>"
            ],
            "text/plain": [
              "   customer_id first_name  ... standard_cost product_first_sold_date\n",
              "0            1    Laraine  ...        125.07              2005-05-10\n",
              "1            1    Laraine  ...        826.51              2008-03-19\n",
              "2            1    Laraine  ...       1531.42              2003-07-21\n",
              "3            1    Laraine  ...        270.30              2003-09-09\n",
              "4            1    Laraine  ...         53.62              2005-08-09\n",
              "\n",
              "[5 rows x 28 columns]"
            ]
          },
          "metadata": {
            "tags": []
          },
          "execution_count": 76
        }
      ]
    },
    {
      "cell_type": "code",
      "metadata": {
        "id": "fMWfGrMJ2dls"
      },
      "source": [
        "#Matriz de correlaciones\n",
        "\n",
        "import pandas as pd\n",
        "import matplotlib.pyplot as plt\n",
        "import seaborn as sns"
      ],
      "execution_count": 77,
      "outputs": []
    },
    {
      "cell_type": "code",
      "metadata": {
        "colab": {
          "base_uri": "https://localhost:8080/",
          "height": 399
        },
        "id": "V20Mv7KH2j5Y",
        "outputId": "d36436cf-e8f2-4ac7-fd43-138f16c5461b"
      },
      "source": [
        "cust_transactions.head()"
      ],
      "execution_count": 79,
      "outputs": [
        {
          "output_type": "execute_result",
          "data": {
            "text/html": [
              "<div>\n",
              "<style scoped>\n",
              "    .dataframe tbody tr th:only-of-type {\n",
              "        vertical-align: middle;\n",
              "    }\n",
              "\n",
              "    .dataframe tbody tr th {\n",
              "        vertical-align: top;\n",
              "    }\n",
              "\n",
              "    .dataframe thead th {\n",
              "        text-align: right;\n",
              "    }\n",
              "</style>\n",
              "<table border=\"1\" class=\"dataframe\">\n",
              "  <thead>\n",
              "    <tr style=\"text-align: right;\">\n",
              "      <th></th>\n",
              "      <th>customer_id</th>\n",
              "      <th>first_name</th>\n",
              "      <th>last_name</th>\n",
              "      <th>gender</th>\n",
              "      <th>past_3_years_bike_related_purchases</th>\n",
              "      <th>DOB</th>\n",
              "      <th>job_title</th>\n",
              "      <th>job_industry_category</th>\n",
              "      <th>wealth_segment</th>\n",
              "      <th>deceased_indicator</th>\n",
              "      <th>owns_car</th>\n",
              "      <th>tenure</th>\n",
              "      <th>address</th>\n",
              "      <th>postcode</th>\n",
              "      <th>state</th>\n",
              "      <th>country</th>\n",
              "      <th>property_valuation</th>\n",
              "      <th>product_id</th>\n",
              "      <th>transaction_date</th>\n",
              "      <th>online_order</th>\n",
              "      <th>order_status</th>\n",
              "      <th>brand</th>\n",
              "      <th>product_line</th>\n",
              "      <th>product_class</th>\n",
              "      <th>product_size</th>\n",
              "      <th>list_price</th>\n",
              "      <th>standard_cost</th>\n",
              "      <th>product_first_sold_date</th>\n",
              "    </tr>\n",
              "  </thead>\n",
              "  <tbody>\n",
              "    <tr>\n",
              "      <th>0</th>\n",
              "      <td>1</td>\n",
              "      <td>Laraine</td>\n",
              "      <td>Medendorp</td>\n",
              "      <td>F</td>\n",
              "      <td>93</td>\n",
              "      <td>1953-10-12</td>\n",
              "      <td>Executive Secretary</td>\n",
              "      <td>Health</td>\n",
              "      <td>Mass Customer</td>\n",
              "      <td>N</td>\n",
              "      <td>Yes</td>\n",
              "      <td>11.0</td>\n",
              "      <td>060 Morning Avenue</td>\n",
              "      <td>2016</td>\n",
              "      <td>NSW</td>\n",
              "      <td>Australia</td>\n",
              "      <td>10</td>\n",
              "      <td>86</td>\n",
              "      <td>2017-12-23</td>\n",
              "      <td>False</td>\n",
              "      <td>Approved</td>\n",
              "      <td>OHM Cycles</td>\n",
              "      <td>Standard</td>\n",
              "      <td>medium</td>\n",
              "      <td>medium</td>\n",
              "      <td>235.63</td>\n",
              "      <td>125.07</td>\n",
              "      <td>2005-05-10</td>\n",
              "    </tr>\n",
              "    <tr>\n",
              "      <th>1</th>\n",
              "      <td>1</td>\n",
              "      <td>Laraine</td>\n",
              "      <td>Medendorp</td>\n",
              "      <td>F</td>\n",
              "      <td>93</td>\n",
              "      <td>1953-10-12</td>\n",
              "      <td>Executive Secretary</td>\n",
              "      <td>Health</td>\n",
              "      <td>Mass Customer</td>\n",
              "      <td>N</td>\n",
              "      <td>Yes</td>\n",
              "      <td>11.0</td>\n",
              "      <td>060 Morning Avenue</td>\n",
              "      <td>2016</td>\n",
              "      <td>NSW</td>\n",
              "      <td>Australia</td>\n",
              "      <td>10</td>\n",
              "      <td>38</td>\n",
              "      <td>2017-04-06</td>\n",
              "      <td>True</td>\n",
              "      <td>Approved</td>\n",
              "      <td>Solex</td>\n",
              "      <td>Standard</td>\n",
              "      <td>medium</td>\n",
              "      <td>medium</td>\n",
              "      <td>1577.53</td>\n",
              "      <td>826.51</td>\n",
              "      <td>2008-03-19</td>\n",
              "    </tr>\n",
              "    <tr>\n",
              "      <th>2</th>\n",
              "      <td>1</td>\n",
              "      <td>Laraine</td>\n",
              "      <td>Medendorp</td>\n",
              "      <td>F</td>\n",
              "      <td>93</td>\n",
              "      <td>1953-10-12</td>\n",
              "      <td>Executive Secretary</td>\n",
              "      <td>Health</td>\n",
              "      <td>Mass Customer</td>\n",
              "      <td>N</td>\n",
              "      <td>Yes</td>\n",
              "      <td>11.0</td>\n",
              "      <td>060 Morning Avenue</td>\n",
              "      <td>2016</td>\n",
              "      <td>NSW</td>\n",
              "      <td>Australia</td>\n",
              "      <td>10</td>\n",
              "      <td>47</td>\n",
              "      <td>2017-05-11</td>\n",
              "      <td>True</td>\n",
              "      <td>Approved</td>\n",
              "      <td>Trek Bicycles</td>\n",
              "      <td>Road</td>\n",
              "      <td>low</td>\n",
              "      <td>small</td>\n",
              "      <td>1720.70</td>\n",
              "      <td>1531.42</td>\n",
              "      <td>2003-07-21</td>\n",
              "    </tr>\n",
              "    <tr>\n",
              "      <th>3</th>\n",
              "      <td>1</td>\n",
              "      <td>Laraine</td>\n",
              "      <td>Medendorp</td>\n",
              "      <td>F</td>\n",
              "      <td>93</td>\n",
              "      <td>1953-10-12</td>\n",
              "      <td>Executive Secretary</td>\n",
              "      <td>Health</td>\n",
              "      <td>Mass Customer</td>\n",
              "      <td>N</td>\n",
              "      <td>Yes</td>\n",
              "      <td>11.0</td>\n",
              "      <td>060 Morning Avenue</td>\n",
              "      <td>2016</td>\n",
              "      <td>NSW</td>\n",
              "      <td>Australia</td>\n",
              "      <td>10</td>\n",
              "      <td>72</td>\n",
              "      <td>2017-01-05</td>\n",
              "      <td>False</td>\n",
              "      <td>Approved</td>\n",
              "      <td>Norco Bicycles</td>\n",
              "      <td>Standard</td>\n",
              "      <td>medium</td>\n",
              "      <td>medium</td>\n",
              "      <td>360.40</td>\n",
              "      <td>270.30</td>\n",
              "      <td>2003-09-09</td>\n",
              "    </tr>\n",
              "    <tr>\n",
              "      <th>4</th>\n",
              "      <td>1</td>\n",
              "      <td>Laraine</td>\n",
              "      <td>Medendorp</td>\n",
              "      <td>F</td>\n",
              "      <td>93</td>\n",
              "      <td>1953-10-12</td>\n",
              "      <td>Executive Secretary</td>\n",
              "      <td>Health</td>\n",
              "      <td>Mass Customer</td>\n",
              "      <td>N</td>\n",
              "      <td>Yes</td>\n",
              "      <td>11.0</td>\n",
              "      <td>060 Morning Avenue</td>\n",
              "      <td>2016</td>\n",
              "      <td>NSW</td>\n",
              "      <td>Australia</td>\n",
              "      <td>10</td>\n",
              "      <td>2</td>\n",
              "      <td>2017-02-21</td>\n",
              "      <td>False</td>\n",
              "      <td>Approved</td>\n",
              "      <td>Solex</td>\n",
              "      <td>Standard</td>\n",
              "      <td>medium</td>\n",
              "      <td>medium</td>\n",
              "      <td>71.49</td>\n",
              "      <td>53.62</td>\n",
              "      <td>2005-08-09</td>\n",
              "    </tr>\n",
              "  </tbody>\n",
              "</table>\n",
              "</div>"
            ],
            "text/plain": [
              "   customer_id first_name  ... standard_cost product_first_sold_date\n",
              "0            1    Laraine  ...        125.07              2005-05-10\n",
              "1            1    Laraine  ...        826.51              2008-03-19\n",
              "2            1    Laraine  ...       1531.42              2003-07-21\n",
              "3            1    Laraine  ...        270.30              2003-09-09\n",
              "4            1    Laraine  ...         53.62              2005-08-09\n",
              "\n",
              "[5 rows x 28 columns]"
            ]
          },
          "metadata": {
            "tags": []
          },
          "execution_count": 79
        }
      ]
    },
    {
      "cell_type": "code",
      "metadata": {
        "colab": {
          "base_uri": "https://localhost:8080/",
          "height": 320
        },
        "id": "61XQVTyD3x3M",
        "outputId": "1140e366-9393-4389-8852-ccda7819e2e8"
      },
      "source": [
        "filtered_cust_transactions = cust_transactions.drop(columns=[\"first_name\",\"last_name\",\"deceased_indicator\",\"address\",\"job_title\"])\n",
        "filtered_cust_transactions.head()\n",
        "\n",
        "filtered_cust_transactions.corr()"
      ],
      "execution_count": 86,
      "outputs": [
        {
          "output_type": "execute_result",
          "data": {
            "text/html": [
              "<div>\n",
              "<style scoped>\n",
              "    .dataframe tbody tr th:only-of-type {\n",
              "        vertical-align: middle;\n",
              "    }\n",
              "\n",
              "    .dataframe tbody tr th {\n",
              "        vertical-align: top;\n",
              "    }\n",
              "\n",
              "    .dataframe thead th {\n",
              "        text-align: right;\n",
              "    }\n",
              "</style>\n",
              "<table border=\"1\" class=\"dataframe\">\n",
              "  <thead>\n",
              "    <tr style=\"text-align: right;\">\n",
              "      <th></th>\n",
              "      <th>customer_id</th>\n",
              "      <th>past_3_years_bike_related_purchases</th>\n",
              "      <th>tenure</th>\n",
              "      <th>postcode</th>\n",
              "      <th>property_valuation</th>\n",
              "      <th>product_id</th>\n",
              "      <th>list_price</th>\n",
              "      <th>standard_cost</th>\n",
              "    </tr>\n",
              "  </thead>\n",
              "  <tbody>\n",
              "    <tr>\n",
              "      <th>customer_id</th>\n",
              "      <td>1.000000</td>\n",
              "      <td>0.000984</td>\n",
              "      <td>-0.024895</td>\n",
              "      <td>0.024927</td>\n",
              "      <td>-0.005602</td>\n",
              "      <td>0.005322</td>\n",
              "      <td>0.010255</td>\n",
              "      <td>0.005461</td>\n",
              "    </tr>\n",
              "    <tr>\n",
              "      <th>past_3_years_bike_related_purchases</th>\n",
              "      <td>0.000984</td>\n",
              "      <td>1.000000</td>\n",
              "      <td>-0.020953</td>\n",
              "      <td>-0.017359</td>\n",
              "      <td>0.012140</td>\n",
              "      <td>0.001602</td>\n",
              "      <td>0.006786</td>\n",
              "      <td>-0.008715</td>\n",
              "    </tr>\n",
              "    <tr>\n",
              "      <th>tenure</th>\n",
              "      <td>-0.024895</td>\n",
              "      <td>-0.020953</td>\n",
              "      <td>1.000000</td>\n",
              "      <td>0.011839</td>\n",
              "      <td>-0.019417</td>\n",
              "      <td>-0.006765</td>\n",
              "      <td>-0.004930</td>\n",
              "      <td>-0.014038</td>\n",
              "    </tr>\n",
              "    <tr>\n",
              "      <th>postcode</th>\n",
              "      <td>0.024927</td>\n",
              "      <td>-0.017359</td>\n",
              "      <td>0.011839</td>\n",
              "      <td>1.000000</td>\n",
              "      <td>-0.517971</td>\n",
              "      <td>0.011806</td>\n",
              "      <td>0.013058</td>\n",
              "      <td>0.008952</td>\n",
              "    </tr>\n",
              "    <tr>\n",
              "      <th>property_valuation</th>\n",
              "      <td>-0.005602</td>\n",
              "      <td>0.012140</td>\n",
              "      <td>-0.019417</td>\n",
              "      <td>-0.517971</td>\n",
              "      <td>1.000000</td>\n",
              "      <td>-0.004522</td>\n",
              "      <td>-0.009743</td>\n",
              "      <td>-0.000052</td>\n",
              "    </tr>\n",
              "    <tr>\n",
              "      <th>product_id</th>\n",
              "      <td>0.005322</td>\n",
              "      <td>0.001602</td>\n",
              "      <td>-0.006765</td>\n",
              "      <td>0.011806</td>\n",
              "      <td>-0.004522</td>\n",
              "      <td>1.000000</td>\n",
              "      <td>0.089925</td>\n",
              "      <td>0.038892</td>\n",
              "    </tr>\n",
              "    <tr>\n",
              "      <th>list_price</th>\n",
              "      <td>0.010255</td>\n",
              "      <td>0.006786</td>\n",
              "      <td>-0.004930</td>\n",
              "      <td>0.013058</td>\n",
              "      <td>-0.009743</td>\n",
              "      <td>0.089925</td>\n",
              "      <td>1.000000</td>\n",
              "      <td>0.551536</td>\n",
              "    </tr>\n",
              "    <tr>\n",
              "      <th>standard_cost</th>\n",
              "      <td>0.005461</td>\n",
              "      <td>-0.008715</td>\n",
              "      <td>-0.014038</td>\n",
              "      <td>0.008952</td>\n",
              "      <td>-0.000052</td>\n",
              "      <td>0.038892</td>\n",
              "      <td>0.551536</td>\n",
              "      <td>1.000000</td>\n",
              "    </tr>\n",
              "  </tbody>\n",
              "</table>\n",
              "</div>"
            ],
            "text/plain": [
              "                                     customer_id  ...  standard_cost\n",
              "customer_id                             1.000000  ...       0.005461\n",
              "past_3_years_bike_related_purchases     0.000984  ...      -0.008715\n",
              "tenure                                 -0.024895  ...      -0.014038\n",
              "postcode                                0.024927  ...       0.008952\n",
              "property_valuation                     -0.005602  ...      -0.000052\n",
              "product_id                              0.005322  ...       0.038892\n",
              "list_price                              0.010255  ...       0.551536\n",
              "standard_cost                           0.005461  ...       1.000000\n",
              "\n",
              "[8 rows x 8 columns]"
            ]
          },
          "metadata": {
            "tags": []
          },
          "execution_count": 86
        }
      ]
    },
    {
      "cell_type": "code",
      "metadata": {
        "colab": {
          "base_uri": "https://localhost:8080/",
          "height": 578
        },
        "id": "_Jo8LsU4467h",
        "outputId": "355b938b-1b0a-46c3-e9b8-4aa2769e94e9"
      },
      "source": [
        "plt.figure(figsize=(8, 6))\n",
        "ax = sns.heatmap(filtered_cust_transactions.corr(), vmin=-1, vmax=1, annot=True, cmap=\"YlGnBu\", linewidths=.5);"
      ],
      "execution_count": 87,
      "outputs": [
        {
          "output_type": "display_data",
          "data": {
            "image/png": "[encoded data removed]",
            "text/plain": [
              "<Figure size 576x432 with 2 Axes>"
            ]
          },
          "metadata": {
            "tags": []
          }
        }
      ]
    },
    {
      "cell_type": "code",
      "metadata": {
        "id": "P0e8cxNp5NJa"
      },
      "source": [
        "#Graficos de dispersion\n",
        "\n",
        "import pandas as pd\n",
        "import seaborn as sns\n",
        "import matplotlib.pyplot as plt"
      ],
      "execution_count": 88,
      "outputs": []
    },
    {
      "cell_type": "code",
      "metadata": {
        "colab": {
          "base_uri": "https://localhost:8080/",
          "height": 313
        },
        "id": "IzuhaHTD6EDU",
        "outputId": "efb0f4b9-f637-4576-ad20-6ed8aa153657"
      },
      "source": [
        "filtered_cust_transactions.head()"
      ],
      "execution_count": 89,
      "outputs": [
        {
          "output_type": "execute_result",
          "data": {
            "text/html": [
              "<div>\n",
              "<style scoped>\n",
              "    .dataframe tbody tr th:only-of-type {\n",
              "        vertical-align: middle;\n",
              "    }\n",
              "\n",
              "    .dataframe tbody tr th {\n",
              "        vertical-align: top;\n",
              "    }\n",
              "\n",
              "    .dataframe thead th {\n",
              "        text-align: right;\n",
              "    }\n",
              "</style>\n",
              "<table border=\"1\" class=\"dataframe\">\n",
              "  <thead>\n",
              "    <tr style=\"text-align: right;\">\n",
              "      <th></th>\n",
              "      <th>customer_id</th>\n",
              "      <th>gender</th>\n",
              "      <th>past_3_years_bike_related_purchases</th>\n",
              "      <th>DOB</th>\n",
              "      <th>job_industry_category</th>\n",
              "      <th>wealth_segment</th>\n",
              "      <th>owns_car</th>\n",
              "      <th>tenure</th>\n",
              "      <th>postcode</th>\n",
              "      <th>state</th>\n",
              "      <th>country</th>\n",
              "      <th>property_valuation</th>\n",
              "      <th>product_id</th>\n",
              "      <th>transaction_date</th>\n",
              "      <th>online_order</th>\n",
              "      <th>order_status</th>\n",
              "      <th>brand</th>\n",
              "      <th>product_line</th>\n",
              "      <th>product_class</th>\n",
              "      <th>product_size</th>\n",
              "      <th>list_price</th>\n",
              "      <th>standard_cost</th>\n",
              "      <th>product_first_sold_date</th>\n",
              "    </tr>\n",
              "  </thead>\n",
              "  <tbody>\n",
              "    <tr>\n",
              "      <th>0</th>\n",
              "      <td>1</td>\n",
              "      <td>F</td>\n",
              "      <td>93</td>\n",
              "      <td>1953-10-12</td>\n",
              "      <td>Health</td>\n",
              "      <td>Mass Customer</td>\n",
              "      <td>Yes</td>\n",
              "      <td>11.0</td>\n",
              "      <td>2016</td>\n",
              "      <td>NSW</td>\n",
              "      <td>Australia</td>\n",
              "      <td>10</td>\n",
              "      <td>86</td>\n",
              "      <td>2017-12-23</td>\n",
              "      <td>False</td>\n",
              "      <td>Approved</td>\n",
              "      <td>OHM Cycles</td>\n",
              "      <td>Standard</td>\n",
              "      <td>medium</td>\n",
              "      <td>medium</td>\n",
              "      <td>235.63</td>\n",
              "      <td>125.07</td>\n",
              "      <td>2005-05-10</td>\n",
              "    </tr>\n",
              "    <tr>\n",
              "      <th>1</th>\n",
              "      <td>1</td>\n",
              "      <td>F</td>\n",
              "      <td>93</td>\n",
              "      <td>1953-10-12</td>\n",
              "      <td>Health</td>\n",
              "      <td>Mass Customer</td>\n",
              "      <td>Yes</td>\n",
              "      <td>11.0</td>\n",
              "      <td>2016</td>\n",
              "      <td>NSW</td>\n",
              "      <td>Australia</td>\n",
              "      <td>10</td>\n",
              "      <td>38</td>\n",
              "      <td>2017-04-06</td>\n",
              "      <td>True</td>\n",
              "      <td>Approved</td>\n",
              "      <td>Solex</td>\n",
              "      <td>Standard</td>\n",
              "      <td>medium</td>\n",
              "      <td>medium</td>\n",
              "      <td>1577.53</td>\n",
              "      <td>826.51</td>\n",
              "      <td>2008-03-19</td>\n",
              "    </tr>\n",
              "    <tr>\n",
              "      <th>2</th>\n",
              "      <td>1</td>\n",
              "      <td>F</td>\n",
              "      <td>93</td>\n",
              "      <td>1953-10-12</td>\n",
              "      <td>Health</td>\n",
              "      <td>Mass Customer</td>\n",
              "      <td>Yes</td>\n",
              "      <td>11.0</td>\n",
              "      <td>2016</td>\n",
              "      <td>NSW</td>\n",
              "      <td>Australia</td>\n",
              "      <td>10</td>\n",
              "      <td>47</td>\n",
              "      <td>2017-05-11</td>\n",
              "      <td>True</td>\n",
              "      <td>Approved</td>\n",
              "      <td>Trek Bicycles</td>\n",
              "      <td>Road</td>\n",
              "      <td>low</td>\n",
              "      <td>small</td>\n",
              "      <td>1720.70</td>\n",
              "      <td>1531.42</td>\n",
              "      <td>2003-07-21</td>\n",
              "    </tr>\n",
              "    <tr>\n",
              "      <th>3</th>\n",
              "      <td>1</td>\n",
              "      <td>F</td>\n",
              "      <td>93</td>\n",
              "      <td>1953-10-12</td>\n",
              "      <td>Health</td>\n",
              "      <td>Mass Customer</td>\n",
              "      <td>Yes</td>\n",
              "      <td>11.0</td>\n",
              "      <td>2016</td>\n",
              "      <td>NSW</td>\n",
              "      <td>Australia</td>\n",
              "      <td>10</td>\n",
              "      <td>72</td>\n",
              "      <td>2017-01-05</td>\n",
              "      <td>False</td>\n",
              "      <td>Approved</td>\n",
              "      <td>Norco Bicycles</td>\n",
              "      <td>Standard</td>\n",
              "      <td>medium</td>\n",
              "      <td>medium</td>\n",
              "      <td>360.40</td>\n",
              "      <td>270.30</td>\n",
              "      <td>2003-09-09</td>\n",
              "    </tr>\n",
              "    <tr>\n",
              "      <th>4</th>\n",
              "      <td>1</td>\n",
              "      <td>F</td>\n",
              "      <td>93</td>\n",
              "      <td>1953-10-12</td>\n",
              "      <td>Health</td>\n",
              "      <td>Mass Customer</td>\n",
              "      <td>Yes</td>\n",
              "      <td>11.0</td>\n",
              "      <td>2016</td>\n",
              "      <td>NSW</td>\n",
              "      <td>Australia</td>\n",
              "      <td>10</td>\n",
              "      <td>2</td>\n",
              "      <td>2017-02-21</td>\n",
              "      <td>False</td>\n",
              "      <td>Approved</td>\n",
              "      <td>Solex</td>\n",
              "      <td>Standard</td>\n",
              "      <td>medium</td>\n",
              "      <td>medium</td>\n",
              "      <td>71.49</td>\n",
              "      <td>53.62</td>\n",
              "      <td>2005-08-09</td>\n",
              "    </tr>\n",
              "  </tbody>\n",
              "</table>\n",
              "</div>"
            ],
            "text/plain": [
              "   customer_id gender  ...  standard_cost product_first_sold_date\n",
              "0            1      F  ...         125.07              2005-05-10\n",
              "1            1      F  ...         826.51              2008-03-19\n",
              "2            1      F  ...        1531.42              2003-07-21\n",
              "3            1      F  ...         270.30              2003-09-09\n",
              "4            1      F  ...          53.62              2005-08-09\n",
              "\n",
              "[5 rows x 23 columns]"
            ]
          },
          "metadata": {
            "tags": []
          },
          "execution_count": 89
        }
      ]
    },
    {
      "cell_type": "code",
      "metadata": {
        "colab": {
          "base_uri": "https://localhost:8080/",
          "height": 357
        },
        "id": "jXe39C9R6MRk",
        "outputId": "ac7b3c6d-13f3-46a5-c16c-7101c36e2389"
      },
      "source": [
        "sns.scatterplot(filtered_cust_transactions['list_price'], filtered_cust_transactions['standard_cost'])"
      ],
      "execution_count": 90,
      "outputs": [
        {
          "output_type": "stream",
          "text": [
            "/usr/local/lib/python3.7/dist-packages/seaborn/_decorators.py:43: FutureWarning: Pass the following variables as keyword args: x, y. From version 0.12, the only valid positional argument will be `data`, and passing other arguments without an explicit keyword will result in an error or misinterpretation.\n",
            "  FutureWarning\n"
          ],
          "name": "stderr"
        },
        {
          "output_type": "execute_result",
          "data": {
            "text/plain": [
              "<matplotlib.axes._subplots.AxesSubplot at 0x7fc4ee862bd0>"
            ]
          },
          "metadata": {
            "tags": []
          },
          "execution_count": 90
        },
        {
          "output_type": "display_data",
          "data": {
            "image/png": "[encoded data removed]",
            "text/plain": [
              "<Figure size 432x288 with 1 Axes>"
            ]
          },
          "metadata": {
            "tags": []
          }
        }
      ]
    },
    {
      "cell_type": "code",
      "metadata": {
        "colab": {
          "base_uri": "https://localhost:8080/"
        },
        "id": "oRYvOLmb6iwB",
        "outputId": "4d8b5d12-dd83-4c70-f402-b7325e1202cb"
      },
      "source": [
        "filtered_cust_transactions['list_price'].corr(filtered_cust_transactions['standard_cost'])"
      ],
      "execution_count": 91,
      "outputs": [
        {
          "output_type": "execute_result",
          "data": {
            "text/plain": [
              "0.5515358136929377"
            ]
          },
          "metadata": {
            "tags": []
          },
          "execution_count": 91
        }
      ]
    },
    {
      "cell_type": "code",
      "metadata": {
        "id": "ATdUQ91T68aM"
      },
      "source": [
        "#Scatterplots por categorias\n",
        "\n",
        "\n",
        "import pandas as pd\n",
        "import seaborn as sns\n",
        "import matplotlib.pyplot as plt"
      ],
      "execution_count": 105,
      "outputs": []
    },
    {
      "cell_type": "code",
      "metadata": {
        "colab": {
          "base_uri": "https://localhost:8080/",
          "height": 313
        },
        "id": "mXCGX07GAcra",
        "outputId": "1ccf431b-efe2-4bc7-b154-223dc9a7d434"
      },
      "source": [
        "filtered_cust_transactions.head()"
      ],
      "execution_count": 107,
      "outputs": [
        {
          "output_type": "execute_result",
          "data": {
            "text/html": [
              "<div>\n",
              "<style scoped>\n",
              "    .dataframe tbody tr th:only-of-type {\n",
              "        vertical-align: middle;\n",
              "    }\n",
              "\n",
              "    .dataframe tbody tr th {\n",
              "        vertical-align: top;\n",
              "    }\n",
              "\n",
              "    .dataframe thead th {\n",
              "        text-align: right;\n",
              "    }\n",
              "</style>\n",
              "<table border=\"1\" class=\"dataframe\">\n",
              "  <thead>\n",
              "    <tr style=\"text-align: right;\">\n",
              "      <th></th>\n",
              "      <th>customer_id</th>\n",
              "      <th>gender</th>\n",
              "      <th>past_3_years_bike_related_purchases</th>\n",
              "      <th>DOB</th>\n",
              "      <th>job_industry_category</th>\n",
              "      <th>wealth_segment</th>\n",
              "      <th>owns_car</th>\n",
              "      <th>tenure</th>\n",
              "      <th>postcode</th>\n",
              "      <th>state</th>\n",
              "      <th>country</th>\n",
              "      <th>property_valuation</th>\n",
              "      <th>product_id</th>\n",
              "      <th>transaction_date</th>\n",
              "      <th>online_order</th>\n",
              "      <th>order_status</th>\n",
              "      <th>brand</th>\n",
              "      <th>product_line</th>\n",
              "      <th>product_class</th>\n",
              "      <th>product_size</th>\n",
              "      <th>list_price</th>\n",
              "      <th>standard_cost</th>\n",
              "      <th>product_first_sold_date</th>\n",
              "    </tr>\n",
              "  </thead>\n",
              "  <tbody>\n",
              "    <tr>\n",
              "      <th>0</th>\n",
              "      <td>1</td>\n",
              "      <td>F</td>\n",
              "      <td>93</td>\n",
              "      <td>1953-10-12</td>\n",
              "      <td>Health</td>\n",
              "      <td>Mass Customer</td>\n",
              "      <td>Yes</td>\n",
              "      <td>11.0</td>\n",
              "      <td>2016</td>\n",
              "      <td>NSW</td>\n",
              "      <td>Australia</td>\n",
              "      <td>10</td>\n",
              "      <td>86</td>\n",
              "      <td>2017-12-23</td>\n",
              "      <td>False</td>\n",
              "      <td>Approved</td>\n",
              "      <td>OHM Cycles</td>\n",
              "      <td>Standard</td>\n",
              "      <td>medium</td>\n",
              "      <td>medium</td>\n",
              "      <td>235.63</td>\n",
              "      <td>125.07</td>\n",
              "      <td>2005-05-10</td>\n",
              "    </tr>\n",
              "    <tr>\n",
              "      <th>1</th>\n",
              "      <td>1</td>\n",
              "      <td>F</td>\n",
              "      <td>93</td>\n",
              "      <td>1953-10-12</td>\n",
              "      <td>Health</td>\n",
              "      <td>Mass Customer</td>\n",
              "      <td>Yes</td>\n",
              "      <td>11.0</td>\n",
              "      <td>2016</td>\n",
              "      <td>NSW</td>\n",
              "      <td>Australia</td>\n",
              "      <td>10</td>\n",
              "      <td>38</td>\n",
              "      <td>2017-04-06</td>\n",
              "      <td>True</td>\n",
              "      <td>Approved</td>\n",
              "      <td>Solex</td>\n",
              "      <td>Standard</td>\n",
              "      <td>medium</td>\n",
              "      <td>medium</td>\n",
              "      <td>1577.53</td>\n",
              "      <td>826.51</td>\n",
              "      <td>2008-03-19</td>\n",
              "    </tr>\n",
              "    <tr>\n",
              "      <th>2</th>\n",
              "      <td>1</td>\n",
              "      <td>F</td>\n",
              "      <td>93</td>\n",
              "      <td>1953-10-12</td>\n",
              "      <td>Health</td>\n",
              "      <td>Mass Customer</td>\n",
              "      <td>Yes</td>\n",
              "      <td>11.0</td>\n",
              "      <td>2016</td>\n",
              "      <td>NSW</td>\n",
              "      <td>Australia</td>\n",
              "      <td>10</td>\n",
              "      <td>47</td>\n",
              "      <td>2017-05-11</td>\n",
              "      <td>True</td>\n",
              "      <td>Approved</td>\n",
              "      <td>Trek Bicycles</td>\n",
              "      <td>Road</td>\n",
              "      <td>low</td>\n",
              "      <td>small</td>\n",
              "      <td>1720.70</td>\n",
              "      <td>1531.42</td>\n",
              "      <td>2003-07-21</td>\n",
              "    </tr>\n",
              "    <tr>\n",
              "      <th>3</th>\n",
              "      <td>1</td>\n",
              "      <td>F</td>\n",
              "      <td>93</td>\n",
              "      <td>1953-10-12</td>\n",
              "      <td>Health</td>\n",
              "      <td>Mass Customer</td>\n",
              "      <td>Yes</td>\n",
              "      <td>11.0</td>\n",
              "      <td>2016</td>\n",
              "      <td>NSW</td>\n",
              "      <td>Australia</td>\n",
              "      <td>10</td>\n",
              "      <td>72</td>\n",
              "      <td>2017-01-05</td>\n",
              "      <td>False</td>\n",
              "      <td>Approved</td>\n",
              "      <td>Norco Bicycles</td>\n",
              "      <td>Standard</td>\n",
              "      <td>medium</td>\n",
              "      <td>medium</td>\n",
              "      <td>360.40</td>\n",
              "      <td>270.30</td>\n",
              "      <td>2003-09-09</td>\n",
              "    </tr>\n",
              "    <tr>\n",
              "      <th>4</th>\n",
              "      <td>1</td>\n",
              "      <td>F</td>\n",
              "      <td>93</td>\n",
              "      <td>1953-10-12</td>\n",
              "      <td>Health</td>\n",
              "      <td>Mass Customer</td>\n",
              "      <td>Yes</td>\n",
              "      <td>11.0</td>\n",
              "      <td>2016</td>\n",
              "      <td>NSW</td>\n",
              "      <td>Australia</td>\n",
              "      <td>10</td>\n",
              "      <td>2</td>\n",
              "      <td>2017-02-21</td>\n",
              "      <td>False</td>\n",
              "      <td>Approved</td>\n",
              "      <td>Solex</td>\n",
              "      <td>Standard</td>\n",
              "      <td>medium</td>\n",
              "      <td>medium</td>\n",
              "      <td>71.49</td>\n",
              "      <td>53.62</td>\n",
              "      <td>2005-08-09</td>\n",
              "    </tr>\n",
              "  </tbody>\n",
              "</table>\n",
              "</div>"
            ],
            "text/plain": [
              "   customer_id gender  ...  standard_cost product_first_sold_date\n",
              "0            1      F  ...         125.07              2005-05-10\n",
              "1            1      F  ...         826.51              2008-03-19\n",
              "2            1      F  ...        1531.42              2003-07-21\n",
              "3            1      F  ...         270.30              2003-09-09\n",
              "4            1      F  ...          53.62              2005-08-09\n",
              "\n",
              "[5 rows x 23 columns]"
            ]
          },
          "metadata": {
            "tags": []
          },
          "execution_count": 107
        }
      ]
    },
    {
      "cell_type": "code",
      "metadata": {
        "colab": {
          "base_uri": "https://localhost:8080/",
          "height": 455
        },
        "id": "ECWQ1pSE9W8K",
        "outputId": "67f93b9f-c754-47b0-c3f7-9c141b7c8719"
      },
      "source": [
        "df_grouped =filtered_cust_transactions.groupby('customer_id')[[\"list_price\", 'standard_cost',\"state\",\"wealth_segment\",\"online_order\", \"product_id\"]].max()\n",
        "\n",
        "df_grouped"
      ],
      "execution_count": 120,
      "outputs": [
        {
          "output_type": "execute_result",
          "data": {
            "text/html": [
              "<div>\n",
              "<style scoped>\n",
              "    .dataframe tbody tr th:only-of-type {\n",
              "        vertical-align: middle;\n",
              "    }\n",
              "\n",
              "    .dataframe tbody tr th {\n",
              "        vertical-align: top;\n",
              "    }\n",
              "\n",
              "    .dataframe thead th {\n",
              "        text-align: right;\n",
              "    }\n",
              "</style>\n",
              "<table border=\"1\" class=\"dataframe\">\n",
              "  <thead>\n",
              "    <tr style=\"text-align: right;\">\n",
              "      <th></th>\n",
              "      <th>list_price</th>\n",
              "      <th>standard_cost</th>\n",
              "      <th>state</th>\n",
              "      <th>wealth_segment</th>\n",
              "      <th>online_order</th>\n",
              "      <th>product_id</th>\n",
              "    </tr>\n",
              "    <tr>\n",
              "      <th>customer_id</th>\n",
              "      <th></th>\n",
              "      <th></th>\n",
              "      <th></th>\n",
              "      <th></th>\n",
              "      <th></th>\n",
              "      <th></th>\n",
              "    </tr>\n",
              "  </thead>\n",
              "  <tbody>\n",
              "    <tr>\n",
              "      <th>1</th>\n",
              "      <td>1720.70</td>\n",
              "      <td>1531.42</td>\n",
              "      <td>NSW</td>\n",
              "      <td>Mass Customer</td>\n",
              "      <td>True</td>\n",
              "      <td>86</td>\n",
              "    </tr>\n",
              "    <tr>\n",
              "      <th>2</th>\n",
              "      <td>1992.93</td>\n",
              "      <td>954.82</td>\n",
              "      <td>NSW</td>\n",
              "      <td>Mass Customer</td>\n",
              "      <td>True</td>\n",
              "      <td>85</td>\n",
              "    </tr>\n",
              "    <tr>\n",
              "      <th>4</th>\n",
              "      <td>569.56</td>\n",
              "      <td>528.43</td>\n",
              "      <td>QLD</td>\n",
              "      <td>Mass Customer</td>\n",
              "      <td>True</td>\n",
              "      <td>95</td>\n",
              "    </tr>\n",
              "    <tr>\n",
              "      <th>5</th>\n",
              "      <td>1812.75</td>\n",
              "      <td>1043.77</td>\n",
              "      <td>NSW</td>\n",
              "      <td>Affluent Customer</td>\n",
              "      <td>True</td>\n",
              "      <td>96</td>\n",
              "    </tr>\n",
              "    <tr>\n",
              "      <th>6</th>\n",
              "      <td>1807.45</td>\n",
              "      <td>778.69</td>\n",
              "      <td>VIC</td>\n",
              "      <td>High Net Worth</td>\n",
              "      <td>True</td>\n",
              "      <td>77</td>\n",
              "    </tr>\n",
              "    <tr>\n",
              "      <th>...</th>\n",
              "      <td>...</td>\n",
              "      <td>...</td>\n",
              "      <td>...</td>\n",
              "      <td>...</td>\n",
              "      <td>...</td>\n",
              "      <td>...</td>\n",
              "    </tr>\n",
              "    <tr>\n",
              "      <th>3496</th>\n",
              "      <td>1945.43</td>\n",
              "      <td>1479.11</td>\n",
              "      <td>NSW</td>\n",
              "      <td>Mass Customer</td>\n",
              "      <td>True</td>\n",
              "      <td>73</td>\n",
              "    </tr>\n",
              "    <tr>\n",
              "      <th>3497</th>\n",
              "      <td>1765.30</td>\n",
              "      <td>954.82</td>\n",
              "      <td>VIC</td>\n",
              "      <td>Affluent Customer</td>\n",
              "      <td>True</td>\n",
              "      <td>78</td>\n",
              "    </tr>\n",
              "    <tr>\n",
              "      <th>3498</th>\n",
              "      <td>2083.94</td>\n",
              "      <td>770.89</td>\n",
              "      <td>VIC</td>\n",
              "      <td>Mass Customer</td>\n",
              "      <td>True</td>\n",
              "      <td>99</td>\n",
              "    </tr>\n",
              "    <tr>\n",
              "      <th>3499</th>\n",
              "      <td>1890.39</td>\n",
              "      <td>954.82</td>\n",
              "      <td>QLD</td>\n",
              "      <td>Mass Customer</td>\n",
              "      <td>True</td>\n",
              "      <td>67</td>\n",
              "    </tr>\n",
              "    <tr>\n",
              "      <th>3500</th>\n",
              "      <td>1458.17</td>\n",
              "      <td>1167.18</td>\n",
              "      <td>NSW</td>\n",
              "      <td>Affluent Customer</td>\n",
              "      <td>True</td>\n",
              "      <td>74</td>\n",
              "    </tr>\n",
              "  </tbody>\n",
              "</table>\n",
              "<p>3489 rows × 6 columns</p>\n",
              "</div>"
            ],
            "text/plain": [
              "             list_price  standard_cost  ... online_order product_id\n",
              "customer_id                             ...                        \n",
              "1               1720.70        1531.42  ...         True         86\n",
              "2               1992.93         954.82  ...         True         85\n",
              "4                569.56         528.43  ...         True         95\n",
              "5               1812.75        1043.77  ...         True         96\n",
              "6               1807.45         778.69  ...         True         77\n",
              "...                 ...            ...  ...          ...        ...\n",
              "3496            1945.43        1479.11  ...         True         73\n",
              "3497            1765.30         954.82  ...         True         78\n",
              "3498            2083.94         770.89  ...         True         99\n",
              "3499            1890.39         954.82  ...         True         67\n",
              "3500            1458.17        1167.18  ...         True         74\n",
              "\n",
              "[3489 rows x 6 columns]"
            ]
          },
          "metadata": {
            "tags": []
          },
          "execution_count": 120
        }
      ]
    },
    {
      "cell_type": "code",
      "metadata": {
        "id": "ZriRwD0fDYlG"
      },
      "source": [
        "New_South_Wales = df_grouped[df_grouped['state'] == 'NSW']"
      ],
      "execution_count": 122,
      "outputs": []
    },
    {
      "cell_type": "code",
      "metadata": {
        "colab": {
          "base_uri": "https://localhost:8080/",
          "height": 340
        },
        "id": "gyITiQJkD1cn",
        "outputId": "98fce0d4-fa2a-40a6-b13d-42f5b97ed69a"
      },
      "source": [
        "sns.scatterplot(New_South_Wales['list_price'], New_South_Wales['standard_cost']);"
      ],
      "execution_count": 123,
      "outputs": [
        {
          "output_type": "stream",
          "text": [
            "/usr/local/lib/python3.7/dist-packages/seaborn/_decorators.py:43: FutureWarning: Pass the following variables as keyword args: x, y. From version 0.12, the only valid positional argument will be `data`, and passing other arguments without an explicit keyword will result in an error or misinterpretation.\n",
            "  FutureWarning\n"
          ],
          "name": "stderr"
        },
        {
          "output_type": "display_data",
          "data": {
            "image/png": "[encoded data removed]",
            "text/plain": [
              "<Figure size 432x288 with 1 Axes>"
            ]
          },
          "metadata": {
            "tags": []
          }
        }
      ]
    },
    {
      "cell_type": "code",
      "metadata": {
        "colab": {
          "base_uri": "https://localhost:8080/",
          "height": 340
        },
        "id": "gkzSxsAlGNOi",
        "outputId": "c647113d-725b-4a28-e1e4-6b1db64464c7"
      },
      "source": [
        "Mass_Customer = df_grouped[df_grouped['wealth_segment'] == 'Mass Customer']\n",
        "\n",
        "\n",
        "sns.scatterplot(New_South_Wales['list_price'], New_South_Wales['standard_cost'], hue=New_South_Wales[\"wealth_segment\"]);"
      ],
      "execution_count": 128,
      "outputs": [
        {
          "output_type": "stream",
          "text": [
            "/usr/local/lib/python3.7/dist-packages/seaborn/_decorators.py:43: FutureWarning: Pass the following variables as keyword args: x, y. From version 0.12, the only valid positional argument will be `data`, and passing other arguments without an explicit keyword will result in an error or misinterpretation.\n",
            "  FutureWarning\n"
          ],
          "name": "stderr"
        },
        {
          "output_type": "display_data",
          "data": {
            "image/png": "[encoded data removed]",
            "text/plain": [
              "<Figure size 432x288 with 1 Axes>"
            ]
          },
          "metadata": {
            "tags": []
          }
        }
      ]
    }
  ]
}